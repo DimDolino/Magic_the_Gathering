{
 "cells": [
  {
   "cell_type": "code",
   "execution_count": 1,
   "id": "22d39f68",
   "metadata": {},
   "outputs": [],
   "source": [
    "from ast import literal_eval\n",
    "from datetime import datetime, timedelta\n",
    "from io import BytesIO\n",
    "import matplotlib.pyplot as plt\n",
    "import numpy as np\n",
    "import pandas as pd\n",
    "import plotly.express as px\n",
    "import plotly.io as pio\n",
    "import plotly.offline as pof\n",
    "import re\n",
    "import requests\n",
    "from zipfile import ZipFile\n",
    "import plotly.io as pio"
   ]
  },
  {
   "cell_type": "markdown",
   "id": "5a53aaa0",
   "metadata": {},
   "source": [
    "Набор данных для анализа доступен на: https://www.kaggle.com/datasets/patrickgendotti/mtg-all-cards\n",
    "\n",
    " \n",
    "Перед вами набор данных, который содержит все когда-либо выпущенные карты Magic: The Gathering. Для большего понимания, о чем идет речь, вы можете перейти на официальный сайт игры и ознакомиться с базовыми правилами.\n",
    "\n",
    " \n",
    "На основе этих данных составьте отчет, который будет содержать следующую информацию:\n",
    "\n",
    " \n",
    "1) Распределение карт по цвету в зависимости от редкости.\n",
    "\n",
    "2) Процент карт, запрещенных в формате Commander, а также распределение по типу для этих карт.\n",
    "\n",
    "3) Топ-10 карт, не являющихся землями, которые были напечатаны в наибольшем количестве сетов.\n",
    "\n",
    "4) Для карт, не являющихся землями, определите, какая часть из них даёт ману с помощью своего эффекта. Покажите распределение по типу маны, который дают эти карты. "
   ]
  },
  {
   "cell_type": "code",
   "execution_count": 2,
   "id": "65e11348",
   "metadata": {},
   "outputs": [],
   "source": [
    "# для отображения нескольких вычисленных значений в ячейке\n",
    "from IPython.core.interactiveshell import InteractiveShell\n",
    "InteractiveShell.ast_node_interactivity = \"all\" "
   ]
  },
  {
   "cell_type": "code",
   "execution_count": 3,
   "id": "ca53ab96",
   "metadata": {},
   "outputs": [],
   "source": [
    "# Скачиваем файл с https://www.kaggle.com/datasets/patrickgendotti/mtg-all-cards"
   ]
  },
  {
   "cell_type": "code",
   "execution_count": 4,
   "id": "3ca3b4de",
   "metadata": {},
   "outputs": [],
   "source": [
    "# Извлекаем dataframe\n",
    "ZIP_FILE = 'archive.zip'\n",
    "df = pd.read_csv(ZIP_FILE, compression='zip', low_memory=False)"
   ]
  },
  {
   "cell_type": "code",
   "execution_count": 5,
   "id": "cb278604",
   "metadata": {},
   "outputs": [],
   "source": [
    "# задаем количество отображаемых столбцов\n",
    "pd.set_option('display.max_columns', 39)"
   ]
  },
  {
   "cell_type": "code",
   "execution_count": 6,
   "id": "2694d47d",
   "metadata": {},
   "outputs": [
    {
     "data": {
      "text/html": [
       "<div>\n",
       "<style scoped>\n",
       "    .dataframe tbody tr th:only-of-type {\n",
       "        vertical-align: middle;\n",
       "    }\n",
       "\n",
       "    .dataframe tbody tr th {\n",
       "        vertical-align: top;\n",
       "    }\n",
       "\n",
       "    .dataframe thead th {\n",
       "        text-align: right;\n",
       "    }\n",
       "</style>\n",
       "<table border=\"1\" class=\"dataframe\">\n",
       "  <thead>\n",
       "    <tr style=\"text-align: right;\">\n",
       "      <th></th>\n",
       "      <th>name</th>\n",
       "      <th>multiverse_id</th>\n",
       "      <th>layout</th>\n",
       "      <th>names</th>\n",
       "      <th>mana_cost</th>\n",
       "      <th>cmc</th>\n",
       "      <th>colors</th>\n",
       "      <th>color_identity</th>\n",
       "      <th>type</th>\n",
       "      <th>supertypes</th>\n",
       "      <th>subtypes</th>\n",
       "      <th>rarity</th>\n",
       "      <th>text</th>\n",
       "      <th>flavor</th>\n",
       "      <th>artist</th>\n",
       "      <th>number</th>\n",
       "      <th>power</th>\n",
       "      <th>toughness</th>\n",
       "      <th>loyalty</th>\n",
       "      <th>variations</th>\n",
       "      <th>watermark</th>\n",
       "      <th>border</th>\n",
       "      <th>timeshifted</th>\n",
       "      <th>hand</th>\n",
       "      <th>life</th>\n",
       "      <th>reserved</th>\n",
       "      <th>release_date</th>\n",
       "      <th>starter</th>\n",
       "      <th>rulings</th>\n",
       "      <th>foreign_names</th>\n",
       "      <th>printings</th>\n",
       "      <th>original_text</th>\n",
       "      <th>original_type</th>\n",
       "      <th>legalities</th>\n",
       "      <th>source</th>\n",
       "      <th>image_url</th>\n",
       "      <th>set</th>\n",
       "      <th>set_name</th>\n",
       "      <th>id</th>\n",
       "    </tr>\n",
       "  </thead>\n",
       "  <tbody>\n",
       "    <tr>\n",
       "      <th>0</th>\n",
       "      <td>Ancestor's Chosen</td>\n",
       "      <td>130550.0</td>\n",
       "      <td>normal</td>\n",
       "      <td>NaN</td>\n",
       "      <td>{5}{W}{W}</td>\n",
       "      <td>7.0</td>\n",
       "      <td>['White']</td>\n",
       "      <td>['W']</td>\n",
       "      <td>Creature — Human Cleric</td>\n",
       "      <td>NaN</td>\n",
       "      <td>['Human', 'Cleric']</td>\n",
       "      <td>Uncommon</td>\n",
       "      <td>First strike (This creature deals combat damag...</td>\n",
       "      <td>NaN</td>\n",
       "      <td>Pete Venters</td>\n",
       "      <td>1</td>\n",
       "      <td>4</td>\n",
       "      <td>4</td>\n",
       "      <td>NaN</td>\n",
       "      <td>['b7c19924-b4bf-56fc-aa73-f586e940bd42']</td>\n",
       "      <td>NaN</td>\n",
       "      <td>NaN</td>\n",
       "      <td>NaN</td>\n",
       "      <td>NaN</td>\n",
       "      <td>NaN</td>\n",
       "      <td>NaN</td>\n",
       "      <td>NaN</td>\n",
       "      <td>NaN</td>\n",
       "      <td>NaN</td>\n",
       "      <td>[{'name': 'Ausgewählter der Ahnfrau', 'text': ...</td>\n",
       "      <td>['10E', 'JUD', 'UMA']</td>\n",
       "      <td>First strike (This creature deals combat damag...</td>\n",
       "      <td>Creature - Human Cleric</td>\n",
       "      <td>[{'format': 'Commander', 'legality': 'Legal'},...</td>\n",
       "      <td>NaN</td>\n",
       "      <td>http://gatherer.wizards.com/Handlers/Image.ash...</td>\n",
       "      <td>10E</td>\n",
       "      <td>Tenth Edition</td>\n",
       "      <td>5f8287b1-5bb6-5f4c-ad17-316a40d5bb0c</td>\n",
       "    </tr>\n",
       "    <tr>\n",
       "      <th>1</th>\n",
       "      <td>Ancestor's Chosen</td>\n",
       "      <td>NaN</td>\n",
       "      <td>normal</td>\n",
       "      <td>NaN</td>\n",
       "      <td>{5}{W}{W}</td>\n",
       "      <td>7.0</td>\n",
       "      <td>['White']</td>\n",
       "      <td>['W']</td>\n",
       "      <td>Creature — Human Cleric</td>\n",
       "      <td>NaN</td>\n",
       "      <td>['Human', 'Cleric']</td>\n",
       "      <td>Uncommon</td>\n",
       "      <td>First strike (This creature deals combat damag...</td>\n",
       "      <td>\"The will of all, by my hand done.\"</td>\n",
       "      <td>Pete Venters</td>\n",
       "      <td>1★</td>\n",
       "      <td>4</td>\n",
       "      <td>4</td>\n",
       "      <td>NaN</td>\n",
       "      <td>['5f8287b1-5bb6-5f4c-ad17-316a40d5bb0c']</td>\n",
       "      <td>NaN</td>\n",
       "      <td>NaN</td>\n",
       "      <td>NaN</td>\n",
       "      <td>NaN</td>\n",
       "      <td>NaN</td>\n",
       "      <td>NaN</td>\n",
       "      <td>NaN</td>\n",
       "      <td>NaN</td>\n",
       "      <td>NaN</td>\n",
       "      <td>NaN</td>\n",
       "      <td>['10E', 'JUD', 'UMA']</td>\n",
       "      <td>NaN</td>\n",
       "      <td>NaN</td>\n",
       "      <td>[{'format': 'Commander', 'legality': 'Legal'},...</td>\n",
       "      <td>NaN</td>\n",
       "      <td>NaN</td>\n",
       "      <td>10E</td>\n",
       "      <td>Tenth Edition</td>\n",
       "      <td>b7c19924-b4bf-56fc-aa73-f586e940bd42</td>\n",
       "    </tr>\n",
       "    <tr>\n",
       "      <th>2</th>\n",
       "      <td>Angel of Mercy</td>\n",
       "      <td>129465.0</td>\n",
       "      <td>normal</td>\n",
       "      <td>NaN</td>\n",
       "      <td>{4}{W}</td>\n",
       "      <td>5.0</td>\n",
       "      <td>['White']</td>\n",
       "      <td>['W']</td>\n",
       "      <td>Creature — Angel</td>\n",
       "      <td>NaN</td>\n",
       "      <td>['Angel']</td>\n",
       "      <td>Uncommon</td>\n",
       "      <td>Flying\\nWhen Angel of Mercy enters the battlef...</td>\n",
       "      <td>Every tear shed is a drop of immortality.</td>\n",
       "      <td>Volkan Baǵa</td>\n",
       "      <td>2</td>\n",
       "      <td>3</td>\n",
       "      <td>3</td>\n",
       "      <td>NaN</td>\n",
       "      <td>['8fd4e2eb-3eb4-50ea-856b-ef638fa47f8a']</td>\n",
       "      <td>NaN</td>\n",
       "      <td>NaN</td>\n",
       "      <td>NaN</td>\n",
       "      <td>NaN</td>\n",
       "      <td>NaN</td>\n",
       "      <td>NaN</td>\n",
       "      <td>NaN</td>\n",
       "      <td>NaN</td>\n",
       "      <td>NaN</td>\n",
       "      <td>[{'name': 'Engel der Gnade', 'text': 'Fliegend...</td>\n",
       "      <td>['10E', '8ED', '9ED', 'DDC', 'DVD', 'IMA', 'IN...</td>\n",
       "      <td>Flying (This creature can't be blocked except ...</td>\n",
       "      <td>Creature - Angel</td>\n",
       "      <td>[{'format': 'Commander', 'legality': 'Legal'},...</td>\n",
       "      <td>NaN</td>\n",
       "      <td>http://gatherer.wizards.com/Handlers/Image.ash...</td>\n",
       "      <td>10E</td>\n",
       "      <td>Tenth Edition</td>\n",
       "      <td>57aaebc1-850c-503d-9f6e-bb8d00d8bf7c</td>\n",
       "    </tr>\n",
       "    <tr>\n",
       "      <th>3</th>\n",
       "      <td>Angel of Mercy</td>\n",
       "      <td>NaN</td>\n",
       "      <td>normal</td>\n",
       "      <td>NaN</td>\n",
       "      <td>{4}{W}</td>\n",
       "      <td>5.0</td>\n",
       "      <td>['White']</td>\n",
       "      <td>['W']</td>\n",
       "      <td>Creature — Angel</td>\n",
       "      <td>NaN</td>\n",
       "      <td>['Angel']</td>\n",
       "      <td>Uncommon</td>\n",
       "      <td>Flying\\nWhen Angel of Mercy enters the battlef...</td>\n",
       "      <td>Every tear shed is a drop of immortality.</td>\n",
       "      <td>Volkan Baǵa</td>\n",
       "      <td>2★</td>\n",
       "      <td>3</td>\n",
       "      <td>3</td>\n",
       "      <td>NaN</td>\n",
       "      <td>['57aaebc1-850c-503d-9f6e-bb8d00d8bf7c']</td>\n",
       "      <td>NaN</td>\n",
       "      <td>NaN</td>\n",
       "      <td>NaN</td>\n",
       "      <td>NaN</td>\n",
       "      <td>NaN</td>\n",
       "      <td>NaN</td>\n",
       "      <td>NaN</td>\n",
       "      <td>NaN</td>\n",
       "      <td>NaN</td>\n",
       "      <td>NaN</td>\n",
       "      <td>['10E', '8ED', '9ED', 'DDC', 'DVD', 'IMA', 'IN...</td>\n",
       "      <td>NaN</td>\n",
       "      <td>NaN</td>\n",
       "      <td>[{'format': 'Commander', 'legality': 'Legal'},...</td>\n",
       "      <td>NaN</td>\n",
       "      <td>NaN</td>\n",
       "      <td>10E</td>\n",
       "      <td>Tenth Edition</td>\n",
       "      <td>8fd4e2eb-3eb4-50ea-856b-ef638fa47f8a</td>\n",
       "    </tr>\n",
       "    <tr>\n",
       "      <th>4</th>\n",
       "      <td>Angelic Blessing</td>\n",
       "      <td>129711.0</td>\n",
       "      <td>normal</td>\n",
       "      <td>NaN</td>\n",
       "      <td>{2}{W}</td>\n",
       "      <td>3.0</td>\n",
       "      <td>['White']</td>\n",
       "      <td>['W']</td>\n",
       "      <td>Sorcery</td>\n",
       "      <td>NaN</td>\n",
       "      <td>NaN</td>\n",
       "      <td>Common</td>\n",
       "      <td>Target creature gets +3/+3 and gains flying un...</td>\n",
       "      <td>Only the warrior who can admit mortal weakness...</td>\n",
       "      <td>Mark Zug</td>\n",
       "      <td>3</td>\n",
       "      <td>NaN</td>\n",
       "      <td>NaN</td>\n",
       "      <td>NaN</td>\n",
       "      <td>['c5655330-5131-5f40-9d3e-0549d88c6e9e']</td>\n",
       "      <td>NaN</td>\n",
       "      <td>NaN</td>\n",
       "      <td>NaN</td>\n",
       "      <td>NaN</td>\n",
       "      <td>NaN</td>\n",
       "      <td>NaN</td>\n",
       "      <td>NaN</td>\n",
       "      <td>NaN</td>\n",
       "      <td>NaN</td>\n",
       "      <td>[{'name': 'Himmlischer Segen', 'text': 'Eine K...</td>\n",
       "      <td>['10E', '9ED', 'EXO', 'P02', 'POR', 'PS11', 'S...</td>\n",
       "      <td>Target creature gets +3/+3 and gains flying un...</td>\n",
       "      <td>Sorcery</td>\n",
       "      <td>[{'format': 'Commander', 'legality': 'Legal'},...</td>\n",
       "      <td>NaN</td>\n",
       "      <td>http://gatherer.wizards.com/Handlers/Image.ash...</td>\n",
       "      <td>10E</td>\n",
       "      <td>Tenth Edition</td>\n",
       "      <td>55bd38ca-dc73-5c06-8f80-a6ddd2f44382</td>\n",
       "    </tr>\n",
       "  </tbody>\n",
       "</table>\n",
       "</div>"
      ],
      "text/plain": [
       "                name  multiverse_id  layout  names  mana_cost  cmc     colors  \\\n",
       "0  Ancestor's Chosen       130550.0  normal    NaN  {5}{W}{W}  7.0  ['White']   \n",
       "1  Ancestor's Chosen            NaN  normal    NaN  {5}{W}{W}  7.0  ['White']   \n",
       "2     Angel of Mercy       129465.0  normal    NaN     {4}{W}  5.0  ['White']   \n",
       "3     Angel of Mercy            NaN  normal    NaN     {4}{W}  5.0  ['White']   \n",
       "4   Angelic Blessing       129711.0  normal    NaN     {2}{W}  3.0  ['White']   \n",
       "\n",
       "  color_identity                     type supertypes             subtypes  \\\n",
       "0          ['W']  Creature — Human Cleric        NaN  ['Human', 'Cleric']   \n",
       "1          ['W']  Creature — Human Cleric        NaN  ['Human', 'Cleric']   \n",
       "2          ['W']         Creature — Angel        NaN            ['Angel']   \n",
       "3          ['W']         Creature — Angel        NaN            ['Angel']   \n",
       "4          ['W']                  Sorcery        NaN                  NaN   \n",
       "\n",
       "     rarity                                               text  \\\n",
       "0  Uncommon  First strike (This creature deals combat damag...   \n",
       "1  Uncommon  First strike (This creature deals combat damag...   \n",
       "2  Uncommon  Flying\\nWhen Angel of Mercy enters the battlef...   \n",
       "3  Uncommon  Flying\\nWhen Angel of Mercy enters the battlef...   \n",
       "4    Common  Target creature gets +3/+3 and gains flying un...   \n",
       "\n",
       "                                              flavor        artist number  \\\n",
       "0                                                NaN  Pete Venters      1   \n",
       "1                \"The will of all, by my hand done.\"  Pete Venters     1★   \n",
       "2          Every tear shed is a drop of immortality.   Volkan Baǵa      2   \n",
       "3          Every tear shed is a drop of immortality.   Volkan Baǵa     2★   \n",
       "4  Only the warrior who can admit mortal weakness...      Mark Zug      3   \n",
       "\n",
       "  power toughness loyalty                                variations watermark  \\\n",
       "0     4         4     NaN  ['b7c19924-b4bf-56fc-aa73-f586e940bd42']       NaN   \n",
       "1     4         4     NaN  ['5f8287b1-5bb6-5f4c-ad17-316a40d5bb0c']       NaN   \n",
       "2     3         3     NaN  ['8fd4e2eb-3eb4-50ea-856b-ef638fa47f8a']       NaN   \n",
       "3     3         3     NaN  ['57aaebc1-850c-503d-9f6e-bb8d00d8bf7c']       NaN   \n",
       "4   NaN       NaN     NaN  ['c5655330-5131-5f40-9d3e-0549d88c6e9e']       NaN   \n",
       "\n",
       "   border  timeshifted  hand  life  reserved  release_date  starter rulings  \\\n",
       "0     NaN          NaN   NaN   NaN       NaN           NaN      NaN     NaN   \n",
       "1     NaN          NaN   NaN   NaN       NaN           NaN      NaN     NaN   \n",
       "2     NaN          NaN   NaN   NaN       NaN           NaN      NaN     NaN   \n",
       "3     NaN          NaN   NaN   NaN       NaN           NaN      NaN     NaN   \n",
       "4     NaN          NaN   NaN   NaN       NaN           NaN      NaN     NaN   \n",
       "\n",
       "                                       foreign_names  \\\n",
       "0  [{'name': 'Ausgewählter der Ahnfrau', 'text': ...   \n",
       "1                                                NaN   \n",
       "2  [{'name': 'Engel der Gnade', 'text': 'Fliegend...   \n",
       "3                                                NaN   \n",
       "4  [{'name': 'Himmlischer Segen', 'text': 'Eine K...   \n",
       "\n",
       "                                           printings  \\\n",
       "0                              ['10E', 'JUD', 'UMA']   \n",
       "1                              ['10E', 'JUD', 'UMA']   \n",
       "2  ['10E', '8ED', '9ED', 'DDC', 'DVD', 'IMA', 'IN...   \n",
       "3  ['10E', '8ED', '9ED', 'DDC', 'DVD', 'IMA', 'IN...   \n",
       "4  ['10E', '9ED', 'EXO', 'P02', 'POR', 'PS11', 'S...   \n",
       "\n",
       "                                       original_text            original_type  \\\n",
       "0  First strike (This creature deals combat damag...  Creature - Human Cleric   \n",
       "1                                                NaN                      NaN   \n",
       "2  Flying (This creature can't be blocked except ...         Creature - Angel   \n",
       "3                                                NaN                      NaN   \n",
       "4  Target creature gets +3/+3 and gains flying un...                  Sorcery   \n",
       "\n",
       "                                          legalities  source  \\\n",
       "0  [{'format': 'Commander', 'legality': 'Legal'},...     NaN   \n",
       "1  [{'format': 'Commander', 'legality': 'Legal'},...     NaN   \n",
       "2  [{'format': 'Commander', 'legality': 'Legal'},...     NaN   \n",
       "3  [{'format': 'Commander', 'legality': 'Legal'},...     NaN   \n",
       "4  [{'format': 'Commander', 'legality': 'Legal'},...     NaN   \n",
       "\n",
       "                                           image_url  set       set_name  \\\n",
       "0  http://gatherer.wizards.com/Handlers/Image.ash...  10E  Tenth Edition   \n",
       "1                                                NaN  10E  Tenth Edition   \n",
       "2  http://gatherer.wizards.com/Handlers/Image.ash...  10E  Tenth Edition   \n",
       "3                                                NaN  10E  Tenth Edition   \n",
       "4  http://gatherer.wizards.com/Handlers/Image.ash...  10E  Tenth Edition   \n",
       "\n",
       "                                     id  \n",
       "0  5f8287b1-5bb6-5f4c-ad17-316a40d5bb0c  \n",
       "1  b7c19924-b4bf-56fc-aa73-f586e940bd42  \n",
       "2  57aaebc1-850c-503d-9f6e-bb8d00d8bf7c  \n",
       "3  8fd4e2eb-3eb4-50ea-856b-ef638fa47f8a  \n",
       "4  55bd38ca-dc73-5c06-8f80-a6ddd2f44382  "
      ]
     },
     "execution_count": 6,
     "metadata": {},
     "output_type": "execute_result"
    }
   ],
   "source": [
    "df.head()"
   ]
  },
  {
   "cell_type": "markdown",
   "id": "e15746bf",
   "metadata": {},
   "source": [
    "### 1) Распределение карт по цвету в зависимости от редкости."
   ]
  },
  {
   "cell_type": "code",
   "execution_count": 7,
   "id": "ad9514f4",
   "metadata": {},
   "outputs": [],
   "source": [
    "# получаем датафрейм без дубликатов(рассматриваем уникальные редкость и цвет с именем в строках)\n",
    "clear_df =  df.drop_duplicates(subset=['name'])"
   ]
  },
  {
   "cell_type": "code",
   "execution_count": 8,
   "id": "0960e1b4",
   "metadata": {
    "scrolled": true
   },
   "outputs": [
    {
     "data": {
      "text/plain": [
       "name                  0\n",
       "colors            14158\n",
       "color_identity     7031\n",
       "rarity                0\n",
       "dtype: int64"
      ]
     },
     "execution_count": 8,
     "metadata": {},
     "output_type": "execute_result"
    }
   ],
   "source": [
    "# Проверим количество пустых значений по колонкам colors color_identity\n",
    "df[['name', 'colors', 'color_identity', 'rarity']].isna().sum()"
   ]
  },
  {
   "cell_type": "code",
   "execution_count": 9,
   "id": "403567d6",
   "metadata": {},
   "outputs": [
    {
     "data": {
      "text/plain": [
       "7031"
      ]
     },
     "execution_count": 9,
     "metadata": {},
     "output_type": "execute_result"
    },
    {
     "data": {
      "text/plain": [
       "0"
      ]
     },
     "execution_count": 9,
     "metadata": {},
     "output_type": "execute_result"
    },
    {
     "data": {
      "text/plain": [
       "7127"
      ]
     },
     "execution_count": 9,
     "metadata": {},
     "output_type": "execute_result"
    }
   ],
   "source": [
    "# Есть ли строки, где одно из полей colors color_identity заполнено\n",
    "df.query('color_identity.isna() == True and colors.isna() == True', engine='python').shape[0]\n",
    "df.query('color_identity.isna() == True and colors.isna() == False', engine='python').shape[0]\n",
    "df.query('color_identity.isna() == False and colors.isna() == True', engine='python').shape[0]"
   ]
  },
  {
   "cell_type": "markdown",
   "id": "b3ee403f",
   "metadata": {},
   "source": [
    "Получили, что строк с пустым значением color_identity и заполненым colors нет, берем столбец color_identity в качестве анализируемого"
   ]
  },
  {
   "cell_type": "code",
   "execution_count": 10,
   "id": "b739d98c",
   "metadata": {},
   "outputs": [
    {
     "name": "stderr",
     "output_type": "stream",
     "text": [
      "C:\\Users\\DimDolino\\AppData\\Local\\Temp\\ipykernel_20244\\3085196938.py:3: SettingWithCopyWarning:\n",
      "\n",
      "\n",
      "A value is trying to be set on a copy of a slice from a DataFrame.\n",
      "Try using .loc[row_indexer,col_indexer] = value instead\n",
      "\n",
      "See the caveats in the documentation: https://pandas.pydata.org/pandas-docs/stable/user_guide/indexing.html#returning-a-view-versus-a-copy\n",
      "\n"
     ]
    }
   ],
   "source": [
    "# приводим данные в колонке color_identity к формату массива для разбиения, фильтруя NA данные\n",
    "colors_df = clear_df[['name', 'color_identity', 'rarity']]\n",
    "colors_df.color_identity = colors_df.query('color_identity.isna() == False', engine='python').color_identity.apply(literal_eval)"
   ]
  },
  {
   "cell_type": "code",
   "execution_count": 11,
   "id": "2ad919b2",
   "metadata": {},
   "outputs": [],
   "source": [
    "# Разбиваем колонку colors на индивидуальные цвета\n",
    "single_color = colors_df.explode('color_identity')"
   ]
  },
  {
   "cell_type": "code",
   "execution_count": 12,
   "id": "ce7a625b",
   "metadata": {},
   "outputs": [],
   "source": [
    "# сбрасываем индекс\n",
    "single_color.reset_index(drop=True, inplace=True)"
   ]
  },
  {
   "cell_type": "code",
   "execution_count": 13,
   "id": "f4946e61",
   "metadata": {},
   "outputs": [],
   "source": [
    "# Заменяем значения с отсутсвием данных строкой No_color\n",
    "single_color.color_identity = single_color.color_identity.fillna('No_color')"
   ]
  },
  {
   "cell_type": "code",
   "execution_count": 14,
   "id": "f20bcd84",
   "metadata": {},
   "outputs": [],
   "source": [
    "# преобразуем сокращения в цвета\n",
    "single_color.color_identity = single_color.color_identity.map({'W': 'White', 'U': 'Blue', 'B': 'Black', 'R': 'Red', 'G': 'Green'})"
   ]
  },
  {
   "cell_type": "code",
   "execution_count": 15,
   "id": "b41ae63b",
   "metadata": {},
   "outputs": [],
   "source": [
    "# Формируем датафрейм с распределением карт по цвету в зависимости от редкости\n",
    "color_rarity_df = single_color.groupby(['rarity', 'color_identity'], as_index=False).agg({'name': 'count'}).rename(columns={'name': 'number_of_cards'})"
   ]
  },
  {
   "cell_type": "code",
   "execution_count": 16,
   "id": "95ba7d44",
   "metadata": {},
   "outputs": [],
   "source": [
    " # Заменяем значения с отсутсвием данных строкой No_color\n",
    "single_color.color_identity = single_color.color_identity.fillna('No_color')"
   ]
  },
  {
   "cell_type": "code",
   "execution_count": 17,
   "id": "22442fe9",
   "metadata": {},
   "outputs": [],
   "source": [
    "# Переименуем колонку color_identity в colors\n",
    "single_color = single_color.rename(columns={'color_identity': 'colors'})"
   ]
  },
  {
   "cell_type": "code",
   "execution_count": 18,
   "id": "0aa02799",
   "metadata": {},
   "outputs": [],
   "source": [
    " # Формируем датафрейм с распределением карт по цвету в зависимости от редкости\n",
    "color_rarity_df = single_color.groupby(['rarity', 'colors'], as_index=False).agg({'name': 'count'}).rename(columns={'name': 'number_of_cards'})"
   ]
  },
  {
   "cell_type": "markdown",
   "id": "4c4f1ae4",
   "metadata": {},
   "source": [
    "Ниже представлена функция, в которой собраны предыдущие шаги"
   ]
  },
  {
   "cell_type": "code",
   "execution_count": 19,
   "id": "9e028297",
   "metadata": {},
   "outputs": [],
   "source": [
    "# функция для преобразования датафрейма к виду, необходимому для построения графика(добавил дополнительно), без него также все работает\n",
    "def find_color_rarity_df(ZIP_FILE):\n",
    "    \"\"\"Forming dataframe from zip arhive with columns:\n",
    "    rarity, color, number_of_cards\n",
    "    \"\"\"\n",
    "    df = pd.read_csv(ZIP_FILE, compression='zip', low_memory=False)\n",
    "    clear_df = df.drop_duplicates(subset=['name', 'color_identity', 'rarity'])[['name', 'color_identity', 'rarity']]\n",
    "    # приводим данные в колонке colors к формату массива для разбиения, убирая NA данные\n",
    "    clear_df.color_identity = clear_df.query('color_identity.isna() == False', engine='python').color_identity.apply(literal_eval)\n",
    "    # Разбиваем колонку colors на индивидуальные цвета\n",
    "    single_color = clear_df.explode('color_identity')\n",
    "    # сбрасываем индекс\n",
    "    single_color.reset_index(drop=True, inplace=True)\n",
    "    # преобразуем сокращения в цвета\n",
    "    single_color.color_identity = single_color.color_identity.map({'W': 'White', 'U': 'Blue', 'B': 'Black', 'R': 'Red', 'G': 'Green'})\n",
    "    # Заменяем значения с отсутсвием данных строкой No_color\n",
    "    single_color.color_identity = single_color.color_identity.fillna('No_color')\n",
    "    # Переименуем колонку color_identity в colors\n",
    "    single_color = single_color.rename(columns={'color_identity': 'colors'})\n",
    "    # Формируем датафрейм с распределением карт по цвету в зависимости от редкости\n",
    "    df_color = single_color.groupby(['rarity', 'colors'], as_index=False).agg({'name': 'count'}).rename(columns={'name': 'number_of_cards'}).sort_values('rarity')\n",
    "    return df_color"
   ]
  },
  {
   "cell_type": "code",
   "execution_count": 43,
   "id": "bc81c84f",
   "metadata": {},
   "outputs": [
    {
     "data": {
      "application/vnd.plotly.v1+json": {
       "config": {
        "plotlyServerURL": "https://plot.ly"
       },
       "data": [
        {
         "alignmentgroup": "True",
         "hovertemplate": "colors=White<br>rarity=%{x}<br>number_of_cards=%{y}<extra></extra>",
         "legendgroup": "White",
         "marker": {
          "color": "white",
          "pattern": {
           "shape": ""
          }
         },
         "name": "White",
         "offsetgroup": "White",
         "orientation": "v",
         "showlegend": true,
         "textposition": "auto",
         "type": "bar",
         "x": [
          "Common",
          "Mythic",
          "Rare",
          "Special",
          "Uncommon"
         ],
         "xaxis": "x",
         "y": [
          1733,
          372,
          1590,
          1,
          1536
         ],
         "yaxis": "y"
        },
        {
         "alignmentgroup": "True",
         "hovertemplate": "colors=Black<br>rarity=%{x}<br>number_of_cards=%{y}<extra></extra>",
         "legendgroup": "Black",
         "marker": {
          "color": "#222A2A",
          "pattern": {
           "shape": ""
          }
         },
         "name": "Black",
         "offsetgroup": "Black",
         "orientation": "v",
         "showlegend": true,
         "textposition": "auto",
         "type": "bar",
         "x": [
          "Common",
          "Mythic",
          "Rare",
          "Uncommon"
         ],
         "xaxis": "x",
         "y": [
          1722,
          384,
          1623,
          1556
         ],
         "yaxis": "y"
        },
        {
         "alignmentgroup": "True",
         "hovertemplate": "colors=Blue<br>rarity=%{x}<br>number_of_cards=%{y}<extra></extra>",
         "legendgroup": "Blue",
         "marker": {
          "color": "#2E91E5",
          "pattern": {
           "shape": ""
          }
         },
         "name": "Blue",
         "offsetgroup": "Blue",
         "orientation": "v",
         "showlegend": true,
         "textposition": "auto",
         "type": "bar",
         "x": [
          "Common",
          "Mythic",
          "Rare",
          "Uncommon"
         ],
         "xaxis": "x",
         "y": [
          1693,
          376,
          1593,
          1527
         ],
         "yaxis": "y"
        },
        {
         "alignmentgroup": "True",
         "hovertemplate": "colors=Green<br>rarity=%{x}<br>number_of_cards=%{y}<extra></extra>",
         "legendgroup": "Green",
         "marker": {
          "color": "#B6E880",
          "pattern": {
           "shape": ""
          }
         },
         "name": "Green",
         "offsetgroup": "Green",
         "orientation": "v",
         "showlegend": true,
         "textposition": "auto",
         "type": "bar",
         "x": [
          "Common",
          "Mythic",
          "Rare",
          "Uncommon"
         ],
         "xaxis": "x",
         "y": [
          1690,
          369,
          1549,
          1528
         ],
         "yaxis": "y"
        },
        {
         "alignmentgroup": "True",
         "hovertemplate": "colors=Red<br>rarity=%{x}<br>number_of_cards=%{y}<extra></extra>",
         "legendgroup": "Red",
         "marker": {
          "color": "#EF553B",
          "pattern": {
           "shape": ""
          }
         },
         "name": "Red",
         "offsetgroup": "Red",
         "orientation": "v",
         "showlegend": true,
         "textposition": "auto",
         "type": "bar",
         "x": [
          "Common",
          "Mythic",
          "Rare",
          "Special",
          "Uncommon"
         ],
         "xaxis": "x",
         "y": [
          1699,
          376,
          1595,
          2,
          1547
         ],
         "yaxis": "y"
        },
        {
         "alignmentgroup": "True",
         "hovertemplate": "colors=No_color<br>rarity=%{x}<br>number_of_cards=%{y}<extra></extra>",
         "legendgroup": "No_color",
         "marker": {
          "color": "rgb(165, 170, 153)",
          "pattern": {
           "shape": ""
          }
         },
         "name": "No_color",
         "offsetgroup": "No_color",
         "orientation": "v",
         "showlegend": true,
         "textposition": "auto",
         "type": "bar",
         "x": [
          "Common",
          "Mythic",
          "Rare",
          "Special",
          "Uncommon"
         ],
         "xaxis": "x",
         "y": [
          628,
          100,
          973,
          2,
          788
         ],
         "yaxis": "y"
        }
       ],
       "layout": {
        "barmode": "group",
        "legend": {
         "title": {
          "text": "Цвет"
         },
         "tracegroupgap": 0,
         "x": 0.99,
         "xanchor": "right",
         "y": 0.99,
         "yanchor": "top"
        },
        "margin": {
         "b": 0,
         "l": 0,
         "r": 40,
         "t": 50
        },
        "template": {
         "data": {
          "bar": [
           {
            "error_x": {
             "color": "#2a3f5f"
            },
            "error_y": {
             "color": "#2a3f5f"
            },
            "marker": {
             "line": {
              "color": "#E5ECF6",
              "width": 0.5
             },
             "pattern": {
              "fillmode": "overlay",
              "size": 10,
              "solidity": 0.2
             }
            },
            "type": "bar"
           }
          ],
          "barpolar": [
           {
            "marker": {
             "line": {
              "color": "#E5ECF6",
              "width": 0.5
             },
             "pattern": {
              "fillmode": "overlay",
              "size": 10,
              "solidity": 0.2
             }
            },
            "type": "barpolar"
           }
          ],
          "carpet": [
           {
            "aaxis": {
             "endlinecolor": "#2a3f5f",
             "gridcolor": "white",
             "linecolor": "white",
             "minorgridcolor": "white",
             "startlinecolor": "#2a3f5f"
            },
            "baxis": {
             "endlinecolor": "#2a3f5f",
             "gridcolor": "white",
             "linecolor": "white",
             "minorgridcolor": "white",
             "startlinecolor": "#2a3f5f"
            },
            "type": "carpet"
           }
          ],
          "choropleth": [
           {
            "colorbar": {
             "outlinewidth": 0,
             "ticks": ""
            },
            "type": "choropleth"
           }
          ],
          "contour": [
           {
            "colorbar": {
             "outlinewidth": 0,
             "ticks": ""
            },
            "colorscale": [
             [
              0,
              "#0d0887"
             ],
             [
              0.1111111111111111,
              "#46039f"
             ],
             [
              0.2222222222222222,
              "#7201a8"
             ],
             [
              0.3333333333333333,
              "#9c179e"
             ],
             [
              0.4444444444444444,
              "#bd3786"
             ],
             [
              0.5555555555555556,
              "#d8576b"
             ],
             [
              0.6666666666666666,
              "#ed7953"
             ],
             [
              0.7777777777777778,
              "#fb9f3a"
             ],
             [
              0.8888888888888888,
              "#fdca26"
             ],
             [
              1,
              "#f0f921"
             ]
            ],
            "type": "contour"
           }
          ],
          "contourcarpet": [
           {
            "colorbar": {
             "outlinewidth": 0,
             "ticks": ""
            },
            "type": "contourcarpet"
           }
          ],
          "heatmap": [
           {
            "colorbar": {
             "outlinewidth": 0,
             "ticks": ""
            },
            "colorscale": [
             [
              0,
              "#0d0887"
             ],
             [
              0.1111111111111111,
              "#46039f"
             ],
             [
              0.2222222222222222,
              "#7201a8"
             ],
             [
              0.3333333333333333,
              "#9c179e"
             ],
             [
              0.4444444444444444,
              "#bd3786"
             ],
             [
              0.5555555555555556,
              "#d8576b"
             ],
             [
              0.6666666666666666,
              "#ed7953"
             ],
             [
              0.7777777777777778,
              "#fb9f3a"
             ],
             [
              0.8888888888888888,
              "#fdca26"
             ],
             [
              1,
              "#f0f921"
             ]
            ],
            "type": "heatmap"
           }
          ],
          "heatmapgl": [
           {
            "colorbar": {
             "outlinewidth": 0,
             "ticks": ""
            },
            "colorscale": [
             [
              0,
              "#0d0887"
             ],
             [
              0.1111111111111111,
              "#46039f"
             ],
             [
              0.2222222222222222,
              "#7201a8"
             ],
             [
              0.3333333333333333,
              "#9c179e"
             ],
             [
              0.4444444444444444,
              "#bd3786"
             ],
             [
              0.5555555555555556,
              "#d8576b"
             ],
             [
              0.6666666666666666,
              "#ed7953"
             ],
             [
              0.7777777777777778,
              "#fb9f3a"
             ],
             [
              0.8888888888888888,
              "#fdca26"
             ],
             [
              1,
              "#f0f921"
             ]
            ],
            "type": "heatmapgl"
           }
          ],
          "histogram": [
           {
            "marker": {
             "pattern": {
              "fillmode": "overlay",
              "size": 10,
              "solidity": 0.2
             }
            },
            "type": "histogram"
           }
          ],
          "histogram2d": [
           {
            "colorbar": {
             "outlinewidth": 0,
             "ticks": ""
            },
            "colorscale": [
             [
              0,
              "#0d0887"
             ],
             [
              0.1111111111111111,
              "#46039f"
             ],
             [
              0.2222222222222222,
              "#7201a8"
             ],
             [
              0.3333333333333333,
              "#9c179e"
             ],
             [
              0.4444444444444444,
              "#bd3786"
             ],
             [
              0.5555555555555556,
              "#d8576b"
             ],
             [
              0.6666666666666666,
              "#ed7953"
             ],
             [
              0.7777777777777778,
              "#fb9f3a"
             ],
             [
              0.8888888888888888,
              "#fdca26"
             ],
             [
              1,
              "#f0f921"
             ]
            ],
            "type": "histogram2d"
           }
          ],
          "histogram2dcontour": [
           {
            "colorbar": {
             "outlinewidth": 0,
             "ticks": ""
            },
            "colorscale": [
             [
              0,
              "#0d0887"
             ],
             [
              0.1111111111111111,
              "#46039f"
             ],
             [
              0.2222222222222222,
              "#7201a8"
             ],
             [
              0.3333333333333333,
              "#9c179e"
             ],
             [
              0.4444444444444444,
              "#bd3786"
             ],
             [
              0.5555555555555556,
              "#d8576b"
             ],
             [
              0.6666666666666666,
              "#ed7953"
             ],
             [
              0.7777777777777778,
              "#fb9f3a"
             ],
             [
              0.8888888888888888,
              "#fdca26"
             ],
             [
              1,
              "#f0f921"
             ]
            ],
            "type": "histogram2dcontour"
           }
          ],
          "mesh3d": [
           {
            "colorbar": {
             "outlinewidth": 0,
             "ticks": ""
            },
            "type": "mesh3d"
           }
          ],
          "parcoords": [
           {
            "line": {
             "colorbar": {
              "outlinewidth": 0,
              "ticks": ""
             }
            },
            "type": "parcoords"
           }
          ],
          "pie": [
           {
            "automargin": true,
            "type": "pie"
           }
          ],
          "scatter": [
           {
            "fillpattern": {
             "fillmode": "overlay",
             "size": 10,
             "solidity": 0.2
            },
            "type": "scatter"
           }
          ],
          "scatter3d": [
           {
            "line": {
             "colorbar": {
              "outlinewidth": 0,
              "ticks": ""
             }
            },
            "marker": {
             "colorbar": {
              "outlinewidth": 0,
              "ticks": ""
             }
            },
            "type": "scatter3d"
           }
          ],
          "scattercarpet": [
           {
            "marker": {
             "colorbar": {
              "outlinewidth": 0,
              "ticks": ""
             }
            },
            "type": "scattercarpet"
           }
          ],
          "scattergeo": [
           {
            "marker": {
             "colorbar": {
              "outlinewidth": 0,
              "ticks": ""
             }
            },
            "type": "scattergeo"
           }
          ],
          "scattergl": [
           {
            "marker": {
             "colorbar": {
              "outlinewidth": 0,
              "ticks": ""
             }
            },
            "type": "scattergl"
           }
          ],
          "scattermapbox": [
           {
            "marker": {
             "colorbar": {
              "outlinewidth": 0,
              "ticks": ""
             }
            },
            "type": "scattermapbox"
           }
          ],
          "scatterpolar": [
           {
            "marker": {
             "colorbar": {
              "outlinewidth": 0,
              "ticks": ""
             }
            },
            "type": "scatterpolar"
           }
          ],
          "scatterpolargl": [
           {
            "marker": {
             "colorbar": {
              "outlinewidth": 0,
              "ticks": ""
             }
            },
            "type": "scatterpolargl"
           }
          ],
          "scatterternary": [
           {
            "marker": {
             "colorbar": {
              "outlinewidth": 0,
              "ticks": ""
             }
            },
            "type": "scatterternary"
           }
          ],
          "surface": [
           {
            "colorbar": {
             "outlinewidth": 0,
             "ticks": ""
            },
            "colorscale": [
             [
              0,
              "#0d0887"
             ],
             [
              0.1111111111111111,
              "#46039f"
             ],
             [
              0.2222222222222222,
              "#7201a8"
             ],
             [
              0.3333333333333333,
              "#9c179e"
             ],
             [
              0.4444444444444444,
              "#bd3786"
             ],
             [
              0.5555555555555556,
              "#d8576b"
             ],
             [
              0.6666666666666666,
              "#ed7953"
             ],
             [
              0.7777777777777778,
              "#fb9f3a"
             ],
             [
              0.8888888888888888,
              "#fdca26"
             ],
             [
              1,
              "#f0f921"
             ]
            ],
            "type": "surface"
           }
          ],
          "table": [
           {
            "cells": {
             "fill": {
              "color": "#EBF0F8"
             },
             "line": {
              "color": "white"
             }
            },
            "header": {
             "fill": {
              "color": "#C8D4E3"
             },
             "line": {
              "color": "white"
             }
            },
            "type": "table"
           }
          ]
         },
         "layout": {
          "annotationdefaults": {
           "arrowcolor": "#2a3f5f",
           "arrowhead": 0,
           "arrowwidth": 1
          },
          "autotypenumbers": "strict",
          "coloraxis": {
           "colorbar": {
            "outlinewidth": 0,
            "ticks": ""
           }
          },
          "colorscale": {
           "diverging": [
            [
             0,
             "#8e0152"
            ],
            [
             0.1,
             "#c51b7d"
            ],
            [
             0.2,
             "#de77ae"
            ],
            [
             0.3,
             "#f1b6da"
            ],
            [
             0.4,
             "#fde0ef"
            ],
            [
             0.5,
             "#f7f7f7"
            ],
            [
             0.6,
             "#e6f5d0"
            ],
            [
             0.7,
             "#b8e186"
            ],
            [
             0.8,
             "#7fbc41"
            ],
            [
             0.9,
             "#4d9221"
            ],
            [
             1,
             "#276419"
            ]
           ],
           "sequential": [
            [
             0,
             "#0d0887"
            ],
            [
             0.1111111111111111,
             "#46039f"
            ],
            [
             0.2222222222222222,
             "#7201a8"
            ],
            [
             0.3333333333333333,
             "#9c179e"
            ],
            [
             0.4444444444444444,
             "#bd3786"
            ],
            [
             0.5555555555555556,
             "#d8576b"
            ],
            [
             0.6666666666666666,
             "#ed7953"
            ],
            [
             0.7777777777777778,
             "#fb9f3a"
            ],
            [
             0.8888888888888888,
             "#fdca26"
            ],
            [
             1,
             "#f0f921"
            ]
           ],
           "sequentialminus": [
            [
             0,
             "#0d0887"
            ],
            [
             0.1111111111111111,
             "#46039f"
            ],
            [
             0.2222222222222222,
             "#7201a8"
            ],
            [
             0.3333333333333333,
             "#9c179e"
            ],
            [
             0.4444444444444444,
             "#bd3786"
            ],
            [
             0.5555555555555556,
             "#d8576b"
            ],
            [
             0.6666666666666666,
             "#ed7953"
            ],
            [
             0.7777777777777778,
             "#fb9f3a"
            ],
            [
             0.8888888888888888,
             "#fdca26"
            ],
            [
             1,
             "#f0f921"
            ]
           ]
          },
          "colorway": [
           "#636efa",
           "#EF553B",
           "#00cc96",
           "#ab63fa",
           "#FFA15A",
           "#19d3f3",
           "#FF6692",
           "#B6E880",
           "#FF97FF",
           "#FECB52"
          ],
          "font": {
           "color": "#2a3f5f"
          },
          "geo": {
           "bgcolor": "white",
           "lakecolor": "white",
           "landcolor": "#E5ECF6",
           "showlakes": true,
           "showland": true,
           "subunitcolor": "white"
          },
          "hoverlabel": {
           "align": "left"
          },
          "hovermode": "closest",
          "mapbox": {
           "style": "light"
          },
          "paper_bgcolor": "white",
          "plot_bgcolor": "#E5ECF6",
          "polar": {
           "angularaxis": {
            "gridcolor": "white",
            "linecolor": "white",
            "ticks": ""
           },
           "bgcolor": "#E5ECF6",
           "radialaxis": {
            "gridcolor": "white",
            "linecolor": "white",
            "ticks": ""
           }
          },
          "scene": {
           "xaxis": {
            "backgroundcolor": "#E5ECF6",
            "gridcolor": "white",
            "gridwidth": 2,
            "linecolor": "white",
            "showbackground": true,
            "ticks": "",
            "zerolinecolor": "white"
           },
           "yaxis": {
            "backgroundcolor": "#E5ECF6",
            "gridcolor": "white",
            "gridwidth": 2,
            "linecolor": "white",
            "showbackground": true,
            "ticks": "",
            "zerolinecolor": "white"
           },
           "zaxis": {
            "backgroundcolor": "#E5ECF6",
            "gridcolor": "white",
            "gridwidth": 2,
            "linecolor": "white",
            "showbackground": true,
            "ticks": "",
            "zerolinecolor": "white"
           }
          },
          "shapedefaults": {
           "line": {
            "color": "#2a3f5f"
           }
          },
          "ternary": {
           "aaxis": {
            "gridcolor": "white",
            "linecolor": "white",
            "ticks": ""
           },
           "baxis": {
            "gridcolor": "white",
            "linecolor": "white",
            "ticks": ""
           },
           "bgcolor": "#E5ECF6",
           "caxis": {
            "gridcolor": "white",
            "linecolor": "white",
            "ticks": ""
           }
          },
          "title": {
           "x": 0.05
          },
          "xaxis": {
           "automargin": true,
           "gridcolor": "white",
           "linecolor": "white",
           "ticks": "",
           "title": {
            "standoff": 15
           },
           "zerolinecolor": "white",
           "zerolinewidth": 2
          },
          "yaxis": {
           "automargin": true,
           "gridcolor": "white",
           "linecolor": "white",
           "ticks": "",
           "title": {
            "standoff": 15
           },
           "zerolinecolor": "white",
           "zerolinewidth": 2
          }
         }
        },
        "title": {
         "text": "Распределение карт по цвету в зависимости от редкости",
         "x": 0.5,
         "xanchor": "center",
         "y": 0.95,
         "yanchor": "top"
        },
        "xaxis": {
         "anchor": "y",
         "categoryarray": [
          "Common",
          "Uncommon",
          "Rare",
          "Mythic",
          "Special",
          "Bonus"
         ],
         "categoryorder": "array",
         "domain": [
          0,
          1
         ],
         "title": {
          "text": "редкость"
         }
        },
        "yaxis": {
         "anchor": "x",
         "domain": [
          0,
          1
         ],
         "title": {
          "text": "количество карт"
         }
        }
       }
      },
      "text/html": [
       "<div>                            <div id=\"10ea1036-da65-4444-b5bc-ce0c2b4e1a7f\" class=\"plotly-graph-div\" style=\"height:525px; width:100%;\"></div>            <script type=\"text/javascript\">                require([\"plotly\"], function(Plotly) {                    window.PLOTLYENV=window.PLOTLYENV || {};                                    if (document.getElementById(\"10ea1036-da65-4444-b5bc-ce0c2b4e1a7f\")) {                    Plotly.newPlot(                        \"10ea1036-da65-4444-b5bc-ce0c2b4e1a7f\",                        [{\"alignmentgroup\":\"True\",\"hovertemplate\":\"colors=White<br>rarity=%{x}<br>number_of_cards=%{y}<extra></extra>\",\"legendgroup\":\"White\",\"marker\":{\"color\":\"white\",\"pattern\":{\"shape\":\"\"}},\"name\":\"White\",\"offsetgroup\":\"White\",\"orientation\":\"v\",\"showlegend\":true,\"textposition\":\"auto\",\"x\":[\"Common\",\"Mythic\",\"Rare\",\"Special\",\"Uncommon\"],\"xaxis\":\"x\",\"y\":[1733,372,1590,1,1536],\"yaxis\":\"y\",\"type\":\"bar\"},{\"alignmentgroup\":\"True\",\"hovertemplate\":\"colors=Black<br>rarity=%{x}<br>number_of_cards=%{y}<extra></extra>\",\"legendgroup\":\"Black\",\"marker\":{\"color\":\"#222A2A\",\"pattern\":{\"shape\":\"\"}},\"name\":\"Black\",\"offsetgroup\":\"Black\",\"orientation\":\"v\",\"showlegend\":true,\"textposition\":\"auto\",\"x\":[\"Common\",\"Mythic\",\"Rare\",\"Uncommon\"],\"xaxis\":\"x\",\"y\":[1722,384,1623,1556],\"yaxis\":\"y\",\"type\":\"bar\"},{\"alignmentgroup\":\"True\",\"hovertemplate\":\"colors=Blue<br>rarity=%{x}<br>number_of_cards=%{y}<extra></extra>\",\"legendgroup\":\"Blue\",\"marker\":{\"color\":\"#2E91E5\",\"pattern\":{\"shape\":\"\"}},\"name\":\"Blue\",\"offsetgroup\":\"Blue\",\"orientation\":\"v\",\"showlegend\":true,\"textposition\":\"auto\",\"x\":[\"Common\",\"Mythic\",\"Rare\",\"Uncommon\"],\"xaxis\":\"x\",\"y\":[1693,376,1593,1527],\"yaxis\":\"y\",\"type\":\"bar\"},{\"alignmentgroup\":\"True\",\"hovertemplate\":\"colors=Green<br>rarity=%{x}<br>number_of_cards=%{y}<extra></extra>\",\"legendgroup\":\"Green\",\"marker\":{\"color\":\"#B6E880\",\"pattern\":{\"shape\":\"\"}},\"name\":\"Green\",\"offsetgroup\":\"Green\",\"orientation\":\"v\",\"showlegend\":true,\"textposition\":\"auto\",\"x\":[\"Common\",\"Mythic\",\"Rare\",\"Uncommon\"],\"xaxis\":\"x\",\"y\":[1690,369,1549,1528],\"yaxis\":\"y\",\"type\":\"bar\"},{\"alignmentgroup\":\"True\",\"hovertemplate\":\"colors=Red<br>rarity=%{x}<br>number_of_cards=%{y}<extra></extra>\",\"legendgroup\":\"Red\",\"marker\":{\"color\":\"#EF553B\",\"pattern\":{\"shape\":\"\"}},\"name\":\"Red\",\"offsetgroup\":\"Red\",\"orientation\":\"v\",\"showlegend\":true,\"textposition\":\"auto\",\"x\":[\"Common\",\"Mythic\",\"Rare\",\"Special\",\"Uncommon\"],\"xaxis\":\"x\",\"y\":[1699,376,1595,2,1547],\"yaxis\":\"y\",\"type\":\"bar\"},{\"alignmentgroup\":\"True\",\"hovertemplate\":\"colors=No_color<br>rarity=%{x}<br>number_of_cards=%{y}<extra></extra>\",\"legendgroup\":\"No_color\",\"marker\":{\"color\":\"rgb(165, 170, 153)\",\"pattern\":{\"shape\":\"\"}},\"name\":\"No_color\",\"offsetgroup\":\"No_color\",\"orientation\":\"v\",\"showlegend\":true,\"textposition\":\"auto\",\"x\":[\"Common\",\"Mythic\",\"Rare\",\"Special\",\"Uncommon\"],\"xaxis\":\"x\",\"y\":[628,100,973,2,788],\"yaxis\":\"y\",\"type\":\"bar\"}],                        {\"template\":{\"data\":{\"histogram2dcontour\":[{\"type\":\"histogram2dcontour\",\"colorbar\":{\"outlinewidth\":0,\"ticks\":\"\"},\"colorscale\":[[0.0,\"#0d0887\"],[0.1111111111111111,\"#46039f\"],[0.2222222222222222,\"#7201a8\"],[0.3333333333333333,\"#9c179e\"],[0.4444444444444444,\"#bd3786\"],[0.5555555555555556,\"#d8576b\"],[0.6666666666666666,\"#ed7953\"],[0.7777777777777778,\"#fb9f3a\"],[0.8888888888888888,\"#fdca26\"],[1.0,\"#f0f921\"]]}],\"choropleth\":[{\"type\":\"choropleth\",\"colorbar\":{\"outlinewidth\":0,\"ticks\":\"\"}}],\"histogram2d\":[{\"type\":\"histogram2d\",\"colorbar\":{\"outlinewidth\":0,\"ticks\":\"\"},\"colorscale\":[[0.0,\"#0d0887\"],[0.1111111111111111,\"#46039f\"],[0.2222222222222222,\"#7201a8\"],[0.3333333333333333,\"#9c179e\"],[0.4444444444444444,\"#bd3786\"],[0.5555555555555556,\"#d8576b\"],[0.6666666666666666,\"#ed7953\"],[0.7777777777777778,\"#fb9f3a\"],[0.8888888888888888,\"#fdca26\"],[1.0,\"#f0f921\"]]}],\"heatmap\":[{\"type\":\"heatmap\",\"colorbar\":{\"outlinewidth\":0,\"ticks\":\"\"},\"colorscale\":[[0.0,\"#0d0887\"],[0.1111111111111111,\"#46039f\"],[0.2222222222222222,\"#7201a8\"],[0.3333333333333333,\"#9c179e\"],[0.4444444444444444,\"#bd3786\"],[0.5555555555555556,\"#d8576b\"],[0.6666666666666666,\"#ed7953\"],[0.7777777777777778,\"#fb9f3a\"],[0.8888888888888888,\"#fdca26\"],[1.0,\"#f0f921\"]]}],\"heatmapgl\":[{\"type\":\"heatmapgl\",\"colorbar\":{\"outlinewidth\":0,\"ticks\":\"\"},\"colorscale\":[[0.0,\"#0d0887\"],[0.1111111111111111,\"#46039f\"],[0.2222222222222222,\"#7201a8\"],[0.3333333333333333,\"#9c179e\"],[0.4444444444444444,\"#bd3786\"],[0.5555555555555556,\"#d8576b\"],[0.6666666666666666,\"#ed7953\"],[0.7777777777777778,\"#fb9f3a\"],[0.8888888888888888,\"#fdca26\"],[1.0,\"#f0f921\"]]}],\"contourcarpet\":[{\"type\":\"contourcarpet\",\"colorbar\":{\"outlinewidth\":0,\"ticks\":\"\"}}],\"contour\":[{\"type\":\"contour\",\"colorbar\":{\"outlinewidth\":0,\"ticks\":\"\"},\"colorscale\":[[0.0,\"#0d0887\"],[0.1111111111111111,\"#46039f\"],[0.2222222222222222,\"#7201a8\"],[0.3333333333333333,\"#9c179e\"],[0.4444444444444444,\"#bd3786\"],[0.5555555555555556,\"#d8576b\"],[0.6666666666666666,\"#ed7953\"],[0.7777777777777778,\"#fb9f3a\"],[0.8888888888888888,\"#fdca26\"],[1.0,\"#f0f921\"]]}],\"surface\":[{\"type\":\"surface\",\"colorbar\":{\"outlinewidth\":0,\"ticks\":\"\"},\"colorscale\":[[0.0,\"#0d0887\"],[0.1111111111111111,\"#46039f\"],[0.2222222222222222,\"#7201a8\"],[0.3333333333333333,\"#9c179e\"],[0.4444444444444444,\"#bd3786\"],[0.5555555555555556,\"#d8576b\"],[0.6666666666666666,\"#ed7953\"],[0.7777777777777778,\"#fb9f3a\"],[0.8888888888888888,\"#fdca26\"],[1.0,\"#f0f921\"]]}],\"mesh3d\":[{\"type\":\"mesh3d\",\"colorbar\":{\"outlinewidth\":0,\"ticks\":\"\"}}],\"scatter\":[{\"fillpattern\":{\"fillmode\":\"overlay\",\"size\":10,\"solidity\":0.2},\"type\":\"scatter\"}],\"parcoords\":[{\"type\":\"parcoords\",\"line\":{\"colorbar\":{\"outlinewidth\":0,\"ticks\":\"\"}}}],\"scatterpolargl\":[{\"type\":\"scatterpolargl\",\"marker\":{\"colorbar\":{\"outlinewidth\":0,\"ticks\":\"\"}}}],\"bar\":[{\"error_x\":{\"color\":\"#2a3f5f\"},\"error_y\":{\"color\":\"#2a3f5f\"},\"marker\":{\"line\":{\"color\":\"#E5ECF6\",\"width\":0.5},\"pattern\":{\"fillmode\":\"overlay\",\"size\":10,\"solidity\":0.2}},\"type\":\"bar\"}],\"scattergeo\":[{\"type\":\"scattergeo\",\"marker\":{\"colorbar\":{\"outlinewidth\":0,\"ticks\":\"\"}}}],\"scatterpolar\":[{\"type\":\"scatterpolar\",\"marker\":{\"colorbar\":{\"outlinewidth\":0,\"ticks\":\"\"}}}],\"histogram\":[{\"marker\":{\"pattern\":{\"fillmode\":\"overlay\",\"size\":10,\"solidity\":0.2}},\"type\":\"histogram\"}],\"scattergl\":[{\"type\":\"scattergl\",\"marker\":{\"colorbar\":{\"outlinewidth\":0,\"ticks\":\"\"}}}],\"scatter3d\":[{\"type\":\"scatter3d\",\"line\":{\"colorbar\":{\"outlinewidth\":0,\"ticks\":\"\"}},\"marker\":{\"colorbar\":{\"outlinewidth\":0,\"ticks\":\"\"}}}],\"scattermapbox\":[{\"type\":\"scattermapbox\",\"marker\":{\"colorbar\":{\"outlinewidth\":0,\"ticks\":\"\"}}}],\"scatterternary\":[{\"type\":\"scatterternary\",\"marker\":{\"colorbar\":{\"outlinewidth\":0,\"ticks\":\"\"}}}],\"scattercarpet\":[{\"type\":\"scattercarpet\",\"marker\":{\"colorbar\":{\"outlinewidth\":0,\"ticks\":\"\"}}}],\"carpet\":[{\"aaxis\":{\"endlinecolor\":\"#2a3f5f\",\"gridcolor\":\"white\",\"linecolor\":\"white\",\"minorgridcolor\":\"white\",\"startlinecolor\":\"#2a3f5f\"},\"baxis\":{\"endlinecolor\":\"#2a3f5f\",\"gridcolor\":\"white\",\"linecolor\":\"white\",\"minorgridcolor\":\"white\",\"startlinecolor\":\"#2a3f5f\"},\"type\":\"carpet\"}],\"table\":[{\"cells\":{\"fill\":{\"color\":\"#EBF0F8\"},\"line\":{\"color\":\"white\"}},\"header\":{\"fill\":{\"color\":\"#C8D4E3\"},\"line\":{\"color\":\"white\"}},\"type\":\"table\"}],\"barpolar\":[{\"marker\":{\"line\":{\"color\":\"#E5ECF6\",\"width\":0.5},\"pattern\":{\"fillmode\":\"overlay\",\"size\":10,\"solidity\":0.2}},\"type\":\"barpolar\"}],\"pie\":[{\"automargin\":true,\"type\":\"pie\"}]},\"layout\":{\"autotypenumbers\":\"strict\",\"colorway\":[\"#636efa\",\"#EF553B\",\"#00cc96\",\"#ab63fa\",\"#FFA15A\",\"#19d3f3\",\"#FF6692\",\"#B6E880\",\"#FF97FF\",\"#FECB52\"],\"font\":{\"color\":\"#2a3f5f\"},\"hovermode\":\"closest\",\"hoverlabel\":{\"align\":\"left\"},\"paper_bgcolor\":\"white\",\"plot_bgcolor\":\"#E5ECF6\",\"polar\":{\"bgcolor\":\"#E5ECF6\",\"angularaxis\":{\"gridcolor\":\"white\",\"linecolor\":\"white\",\"ticks\":\"\"},\"radialaxis\":{\"gridcolor\":\"white\",\"linecolor\":\"white\",\"ticks\":\"\"}},\"ternary\":{\"bgcolor\":\"#E5ECF6\",\"aaxis\":{\"gridcolor\":\"white\",\"linecolor\":\"white\",\"ticks\":\"\"},\"baxis\":{\"gridcolor\":\"white\",\"linecolor\":\"white\",\"ticks\":\"\"},\"caxis\":{\"gridcolor\":\"white\",\"linecolor\":\"white\",\"ticks\":\"\"}},\"coloraxis\":{\"colorbar\":{\"outlinewidth\":0,\"ticks\":\"\"}},\"colorscale\":{\"sequential\":[[0.0,\"#0d0887\"],[0.1111111111111111,\"#46039f\"],[0.2222222222222222,\"#7201a8\"],[0.3333333333333333,\"#9c179e\"],[0.4444444444444444,\"#bd3786\"],[0.5555555555555556,\"#d8576b\"],[0.6666666666666666,\"#ed7953\"],[0.7777777777777778,\"#fb9f3a\"],[0.8888888888888888,\"#fdca26\"],[1.0,\"#f0f921\"]],\"sequentialminus\":[[0.0,\"#0d0887\"],[0.1111111111111111,\"#46039f\"],[0.2222222222222222,\"#7201a8\"],[0.3333333333333333,\"#9c179e\"],[0.4444444444444444,\"#bd3786\"],[0.5555555555555556,\"#d8576b\"],[0.6666666666666666,\"#ed7953\"],[0.7777777777777778,\"#fb9f3a\"],[0.8888888888888888,\"#fdca26\"],[1.0,\"#f0f921\"]],\"diverging\":[[0,\"#8e0152\"],[0.1,\"#c51b7d\"],[0.2,\"#de77ae\"],[0.3,\"#f1b6da\"],[0.4,\"#fde0ef\"],[0.5,\"#f7f7f7\"],[0.6,\"#e6f5d0\"],[0.7,\"#b8e186\"],[0.8,\"#7fbc41\"],[0.9,\"#4d9221\"],[1,\"#276419\"]]},\"xaxis\":{\"gridcolor\":\"white\",\"linecolor\":\"white\",\"ticks\":\"\",\"title\":{\"standoff\":15},\"zerolinecolor\":\"white\",\"automargin\":true,\"zerolinewidth\":2},\"yaxis\":{\"gridcolor\":\"white\",\"linecolor\":\"white\",\"ticks\":\"\",\"title\":{\"standoff\":15},\"zerolinecolor\":\"white\",\"automargin\":true,\"zerolinewidth\":2},\"scene\":{\"xaxis\":{\"backgroundcolor\":\"#E5ECF6\",\"gridcolor\":\"white\",\"linecolor\":\"white\",\"showbackground\":true,\"ticks\":\"\",\"zerolinecolor\":\"white\",\"gridwidth\":2},\"yaxis\":{\"backgroundcolor\":\"#E5ECF6\",\"gridcolor\":\"white\",\"linecolor\":\"white\",\"showbackground\":true,\"ticks\":\"\",\"zerolinecolor\":\"white\",\"gridwidth\":2},\"zaxis\":{\"backgroundcolor\":\"#E5ECF6\",\"gridcolor\":\"white\",\"linecolor\":\"white\",\"showbackground\":true,\"ticks\":\"\",\"zerolinecolor\":\"white\",\"gridwidth\":2}},\"shapedefaults\":{\"line\":{\"color\":\"#2a3f5f\"}},\"annotationdefaults\":{\"arrowcolor\":\"#2a3f5f\",\"arrowhead\":0,\"arrowwidth\":1},\"geo\":{\"bgcolor\":\"white\",\"landcolor\":\"#E5ECF6\",\"subunitcolor\":\"white\",\"showland\":true,\"showlakes\":true,\"lakecolor\":\"white\"},\"title\":{\"x\":0.05},\"mapbox\":{\"style\":\"light\"}}},\"xaxis\":{\"anchor\":\"y\",\"domain\":[0.0,1.0],\"title\":{\"text\":\"\\u0440\\u0435\\u0434\\u043a\\u043e\\u0441\\u0442\\u044c\"},\"categoryorder\":\"array\",\"categoryarray\":[\"Common\",\"Uncommon\",\"Rare\",\"Mythic\",\"Special\",\"Bonus\"]},\"yaxis\":{\"anchor\":\"x\",\"domain\":[0.0,1.0],\"title\":{\"text\":\"\\u043a\\u043e\\u043b\\u0438\\u0447\\u0435\\u0441\\u0442\\u0432\\u043e \\u043a\\u0430\\u0440\\u0442\"}},\"legend\":{\"title\":{\"text\":\"\\u0426\\u0432\\u0435\\u0442\"},\"tracegroupgap\":0,\"yanchor\":\"top\",\"y\":0.99,\"xanchor\":\"right\",\"x\":0.99},\"margin\":{\"t\":50,\"l\":0,\"r\":40,\"b\":0},\"barmode\":\"group\",\"title\":{\"text\":\"\\u0420\\u0430\\u0441\\u043f\\u0440\\u0435\\u0434\\u0435\\u043b\\u0435\\u043d\\u0438\\u0435 \\u043a\\u0430\\u0440\\u0442 \\u043f\\u043e \\u0446\\u0432\\u0435\\u0442\\u0443 \\u0432 \\u0437\\u0430\\u0432\\u0438\\u0441\\u0438\\u043c\\u043e\\u0441\\u0442\\u0438 \\u043e\\u0442 \\u0440\\u0435\\u0434\\u043a\\u043e\\u0441\\u0442\\u0438\",\"y\":0.95,\"x\":0.5,\"xanchor\":\"center\",\"yanchor\":\"top\"}},                        {\"responsive\": true}                    ).then(function(){\n",
       "                            \n",
       "var gd = document.getElementById('10ea1036-da65-4444-b5bc-ce0c2b4e1a7f');\n",
       "var x = new MutationObserver(function (mutations, observer) {{\n",
       "        var display = window.getComputedStyle(gd).display;\n",
       "        if (!display || display === 'none') {{\n",
       "            console.log([gd, 'removed!']);\n",
       "            Plotly.purge(gd);\n",
       "            observer.disconnect();\n",
       "        }}\n",
       "}});\n",
       "\n",
       "// Listen for the removal of the full notebook cells\n",
       "var notebookContainer = gd.closest('#notebook-container');\n",
       "if (notebookContainer) {{\n",
       "    x.observe(notebookContainer, {childList: true});\n",
       "}}\n",
       "\n",
       "// Listen for the clearing of the current output cell\n",
       "var outputEl = gd.closest('.output');\n",
       "if (outputEl) {{\n",
       "    x.observe(outputEl, {childList: true});\n",
       "}}\n",
       "\n",
       "                        })                };                });            </script>        </div>"
      ]
     },
     "metadata": {},
     "output_type": "display_data"
    },
    {
     "data": {
      "image/jpeg": "[encoded data removed]"
     },
     "metadata": {},
     "output_type": "display_data"
    }
   ],
   "source": [
    "# Строим график \n",
    "fig = px.bar(color_rarity_df, x='rarity', y='number_of_cards', barmode='group', color='colors',\n",
    "                  color_discrete_map={\n",
    "                 'White': 'white',\n",
    "                 'Black': '#222A2A',\n",
    "                 'Blue': '#2E91E5',\n",
    "                 'Green': '#B6E880',\n",
    "                 'Red': '#EF553B',\n",
    "                 'No_color': 'rgb(165, 170, 153)'\n",
    "                  },\n",
    "                  category_orders={'rarity': ['Common', 'Uncommon', 'Rare', 'Mythic','Special', 'Bonus'],\n",
    "                                   'colors': ['White', 'Black', 'Blue', 'Green', 'Red', 'No_color']})\n",
    "# Кастомизация  графика в plotly\n",
    "fig.update_layout(legend=dict(\n",
    "                            yanchor=\"top\",\n",
    "                            y=0.99,\n",
    "                            xanchor=\"right\",\n",
    "                            x=0.99\n",
    "                            ),\n",
    "                    title={\n",
    "                            'text': \"Распределение карт по цвету в зависимости от редкости\",\n",
    "                            'y':0.95,\n",
    "                            'x':0.5,\n",
    "                            'xanchor': 'center',\n",
    "                            'yanchor': 'top'\n",
    "                            },\n",
    "                  xaxis_title=\"редкость\",\n",
    "                  yaxis_title=\"количество карт\",\n",
    "                  legend_title=\"Цвет\",\n",
    "                  margin=dict(l=0, r=40, t=50, b=0))\n",
    "fig.show(renderer='jpeg')"
   ]
  },
  {
   "cell_type": "markdown",
   "id": "1f2a646a",
   "metadata": {},
   "source": [
    "## 2) Процент карт, запрещенных в формате Commander, а также распределение по типу для этих карт."
   ]
  },
  {
   "cell_type": "code",
   "execution_count": 21,
   "id": "113b7ecd",
   "metadata": {},
   "outputs": [],
   "source": [
    "# создаем датафрейм из трех колонок:\n",
    "Commander_df = clear_df[['name', 'legalities', 'rarity']]"
   ]
  },
  {
   "cell_type": "code",
   "execution_count": 22,
   "id": "d5c231e6",
   "metadata": {
    "scrolled": true
   },
   "outputs": [
    {
     "data": {
      "text/plain": [
       "970"
      ]
     },
     "execution_count": 22,
     "metadata": {},
     "output_type": "execute_result"
    }
   ],
   "source": [
    "# В колонке legalities, необходимой для анализа, есть пустые строки, учтем это при фильтрации\n",
    "Commander_df.legalities.isna().sum()"
   ]
  },
  {
   "cell_type": "code",
   "execution_count": 23,
   "id": "f1ea37b3",
   "metadata": {},
   "outputs": [],
   "source": [
    "# напишем функцию для поиска запрещенных карт, если в колонке legalities\n",
    "def find_illegal(string):\n",
    "    \"\"\"функция поиска запрещенных карт:\n",
    "    если в поле имеется значение \n",
    "    format': 'Commander', 'legality': 'Legal,\n",
    "    значит карта используется в формате и нам не нужна,\n",
    "    возвращается False, иначе True.\n",
    "    Если в строке пустое значение, то считаем карту разрешенной\n",
    "    (без запретов)\n",
    "    \"\"\"\n",
    "    try:\n",
    "        if f\"'format': 'Commander', 'legality': 'Legal'\" in string:\n",
    "            return False\n",
    "        else:\n",
    "            return True\n",
    "    except:\n",
    "        return False"
   ]
  },
  {
   "cell_type": "code",
   "execution_count": 24,
   "id": "39a60fac",
   "metadata": {},
   "outputs": [],
   "source": [
    "# функция для вывода процента запрещенных карт формата commander и распределение по редкости (шаги объединил в функцию)\n",
    "def Commander_illegal(df):\n",
    "    Commander_df = df.drop_duplicates(subset=['name', 'rarity'])[['name', 'legalities', 'rarity']]\n",
    "    # Получаем датафрейм запрещенных карт\n",
    "    Illegal_df = Commander_df.loc[Commander_df.legalities.apply(find_illegal)]\n",
    "\n",
    "    # группируем по редкости и определяем количество\n",
    "    Illegal_cards = Illegal_df.groupby('rarity', as_index=False).agg({'name': 'count'}).rename(columns={'name': 'illegal_in_Commander'})\n",
    "    # тоже самое для всех карт, не только запрещенных\n",
    "    all_cards = Commander_df.groupby('rarity', as_index=False).agg({'name': 'count'}).rename(columns={'name': 'all_cards'})\n",
    "    # объединяем датафреймы по полю rarity\n",
    "    Illegal_cards = Illegal_cards.merge(all_cards, on='rarity', how='outer')\n",
    "\n",
    "    # Проверям, что не потеряли строки при преобразовании\n",
    "    Illegal_cards.all_cards.sum() == Commander_df.shape[0]\n",
    "\n",
    "    # расчитаем процент запрещенных карт относительно карт в данной группе и общего числа\n",
    "    Illegal_cards['percentage'] = round((Illegal_cards.illegal_in_Commander / Illegal_cards.all_cards)*100, 2) # процент карт отосительно карт в редкости\n",
    "    Illegal_cards['abs_percentage'] = round((Illegal_cards.illegal_in_Commander / Illegal_cards.all_cards.sum())*100, 3) # процент относительно всех\n",
    "\n",
    "    # процент запрещенных карт \n",
    "    percent = round(Illegal_df.shape[0] / Commander_df.shape[0] *100, 3)\n",
    "    \n",
    "    print(f\"Процент карт, запрещенных в формате Commander {percent}%\")\n",
    "    print(f\"Распределение запрещенных карт по редкости:\\n\"\n",
    "          f\"{Illegal_cards}\")"
   ]
  },
  {
   "cell_type": "code",
   "execution_count": 25,
   "id": "024c76fe",
   "metadata": {},
   "outputs": [
    {
     "name": "stdout",
     "output_type": "stream",
     "text": [
      "Процент карт, запрещенных в формате Commander 1.228%\n",
      "Распределение запрещенных карт по редкости:\n",
      "     rarity  illegal_in_Commander  all_cards  percentage  abs_percentage\n",
      "0     Bonus                     8         10       80.00           0.030\n",
      "1    Common                    48       8873        0.54           0.180\n",
      "2    Mythic                    59       1583        3.73           0.222\n",
      "3      Rare                   142       8037        1.77           0.533\n",
      "4   Special                     2        243        0.82           0.008\n",
      "5  Uncommon                    68       7885        0.86           0.255\n"
     ]
    }
   ],
   "source": [
    "Commander_illegal(df)"
   ]
  },
  {
   "cell_type": "markdown",
   "id": "166697b0",
   "metadata": {},
   "source": [
    "## 3) Топ-10 карт, не являющихся землями, которые были напечатаны в наибольшем количестве сетов."
   ]
  },
  {
   "cell_type": "code",
   "execution_count": 26,
   "id": "70aeb2ec",
   "metadata": {},
   "outputs": [],
   "source": [
    "# Для определения типа карты используем колонку type, в которй ищем упоминания о Land\n",
    "def find_Land(string):\n",
    "    \"\"\"функция поиска типа \"земли\":\n",
    "    если в поле содержится 'Land',\n",
    "    значит карта является землей -> False\n",
    "    \"\"\"\n",
    "    if \"Land\" in string:\n",
    "        return False\n",
    "    else:\n",
    "        return True"
   ]
  },
  {
   "cell_type": "code",
   "execution_count": 27,
   "id": "232cfe98",
   "metadata": {
    "scrolled": true
   },
   "outputs": [
    {
     "data": {
      "text/html": [
       "<div>\n",
       "<style scoped>\n",
       "    .dataframe tbody tr th:only-of-type {\n",
       "        vertical-align: middle;\n",
       "    }\n",
       "\n",
       "    .dataframe tbody tr th {\n",
       "        vertical-align: top;\n",
       "    }\n",
       "\n",
       "    .dataframe thead th {\n",
       "        text-align: right;\n",
       "    }\n",
       "</style>\n",
       "<table border=\"1\" class=\"dataframe\">\n",
       "  <thead>\n",
       "    <tr style=\"text-align: right;\">\n",
       "      <th></th>\n",
       "      <th>name</th>\n",
       "      <th>number_of_sets</th>\n",
       "    </tr>\n",
       "  </thead>\n",
       "  <tbody>\n",
       "    <tr>\n",
       "      <th>0</th>\n",
       "      <td>Giant Growth</td>\n",
       "      <td>47</td>\n",
       "    </tr>\n",
       "    <tr>\n",
       "      <th>1</th>\n",
       "      <td>Counterspell</td>\n",
       "      <td>46</td>\n",
       "    </tr>\n",
       "    <tr>\n",
       "      <th>2</th>\n",
       "      <td>Serra Angel</td>\n",
       "      <td>42</td>\n",
       "    </tr>\n",
       "    <tr>\n",
       "      <th>3</th>\n",
       "      <td>Swords to Plowshares</td>\n",
       "      <td>42</td>\n",
       "    </tr>\n",
       "    <tr>\n",
       "      <th>4</th>\n",
       "      <td>Dark Ritual</td>\n",
       "      <td>41</td>\n",
       "    </tr>\n",
       "    <tr>\n",
       "      <th>5</th>\n",
       "      <td>Disenchant</td>\n",
       "      <td>41</td>\n",
       "    </tr>\n",
       "    <tr>\n",
       "      <th>6</th>\n",
       "      <td>Sol Ring</td>\n",
       "      <td>41</td>\n",
       "    </tr>\n",
       "    <tr>\n",
       "      <th>7</th>\n",
       "      <td>Llanowar Elves</td>\n",
       "      <td>40</td>\n",
       "    </tr>\n",
       "    <tr>\n",
       "      <th>8</th>\n",
       "      <td>Fireball</td>\n",
       "      <td>35</td>\n",
       "    </tr>\n",
       "    <tr>\n",
       "      <th>9</th>\n",
       "      <td>Air Elemental</td>\n",
       "      <td>33</td>\n",
       "    </tr>\n",
       "  </tbody>\n",
       "</table>\n",
       "</div>"
      ],
      "text/plain": [
       "                   name  number_of_sets\n",
       "0          Giant Growth              47\n",
       "1          Counterspell              46\n",
       "2           Serra Angel              42\n",
       "3  Swords to Plowshares              42\n",
       "4           Dark Ritual              41\n",
       "5            Disenchant              41\n",
       "6              Sol Ring              41\n",
       "7        Llanowar Elves              40\n",
       "8              Fireball              35\n",
       "9         Air Elemental              33"
      ]
     },
     "execution_count": 27,
     "metadata": {},
     "output_type": "execute_result"
    }
   ],
   "source": [
    "# Применяем фильтрацию с помощью loc и получеаем топ-10 карт (Не земель)\n",
    "df.loc[df.type.apply(find_Land)].groupby('name', as_index=False) \\\n",
    "                                .agg({'set_name': 'nunique'}) \\\n",
    "                                .rename(columns={'set_name': 'number_of_sets'}) \\\n",
    "                                .sort_values('number_of_sets', ascending=False) \\\n",
    "                                .reset_index(drop=True).head(10)"
   ]
  },
  {
   "cell_type": "markdown",
   "id": "888da241",
   "metadata": {},
   "source": [
    "## 4) Для карт, не являющихся землями, определите, какая часть из них даёт ману с помощью своего эффекта. Покажите распределение по типу маны, который дают эти карты. "
   ]
  },
  {
   "cell_type": "code",
   "execution_count": 28,
   "id": "b9220d9e",
   "metadata": {},
   "outputs": [],
   "source": [
    "# Напишем функцию для поиска карт, дающих баффы или прибавку к мане\n",
    "def find_buff(string):\n",
    "    \"\"\"функция поиска маны в упоминании карты:\n",
    "    если в поле содержится 'Add',\n",
    "    значит карта дает ману -> True\n",
    "    \"\"\"\n",
    "    try:\n",
    "        if \"Add\" in string:\n",
    "            return True\n",
    "        else:\n",
    "            return False  \n",
    "    except:\n",
    "        return False"
   ]
  },
  {
   "cell_type": "code",
   "execution_count": 29,
   "id": "8ac3d087",
   "metadata": {},
   "outputs": [],
   "source": [
    "# формируем датафрейм с описанием карт, где имеется информация о необходимых бафах и применяем \n",
    "mana_df = df.drop_duplicates(subset=['name', 'rarity']).loc[df.type.apply(find_Land)].loc[df.text.apply(find_buff)][['name', 'text']]"
   ]
  },
  {
   "cell_type": "code",
   "execution_count": 30,
   "id": "fd9b60bd",
   "metadata": {},
   "outputs": [],
   "source": [
    "# Создаем паттерн для поиска в текстовом описании карты меток цвета или добавления mana of any color\n",
    "pattern = re.compile('mana|{[BUGRWC]}')"
   ]
  },
  {
   "cell_type": "code",
   "execution_count": 31,
   "id": "eb9dc4e3",
   "metadata": {},
   "outputs": [],
   "source": [
    "# Напишем функцию для создания нового столбца по данным в строке:\n",
    "def find_all_colors(string):\n",
    "    \"\"\" string -> all patterns from string or []\n",
    "        function for searching pattern in string\n",
    "        if some exceptions return same string type\n",
    "        and format (for ignoring NaN values)\"\"\"\n",
    "    try:\n",
    "        mana = pattern.findall(string)\n",
    "        if mana == []:\n",
    "            return np.nan\n",
    "        return mana\n",
    "    except:\n",
    "        return string"
   ]
  },
  {
   "cell_type": "code",
   "execution_count": 32,
   "id": "f8d64bf2",
   "metadata": {},
   "outputs": [],
   "source": [
    "# Применяем функцию поиска вхождений и создаем датафрейм массивов\n",
    "mana_df['mana_colors'] = mana_df.text.apply(find_all_colors)"
   ]
  },
  {
   "cell_type": "code",
   "execution_count": 33,
   "id": "619ab097",
   "metadata": {},
   "outputs": [],
   "source": [
    "# убираем строки, в которых были карты с бафами, дающими статы, а не ману\n",
    "mana_df.dropna(subset=['mana_colors'], inplace=True)"
   ]
  },
  {
   "cell_type": "code",
   "execution_count": 34,
   "id": "fd44f066",
   "metadata": {},
   "outputs": [
    {
     "name": "stdout",
     "output_type": "stream",
     "text": [
      "Часть карт, дающих ману: 0.033\n"
     ]
    }
   ],
   "source": [
    "# Считаем часть карт, дающих ману, от всего количества карт\n",
    "giving_mana = mana_df.shape[0]\n",
    "\n",
    "all_cards = df.drop_duplicates(subset=['name', 'rarity']).shape[0]\n",
    "\n",
    "part_of_all_cards = round(giving_mana / all_cards, 3)\n",
    "\n",
    "print(f\"Часть карт, дающих ману: {part_of_all_cards}\")"
   ]
  },
  {
   "cell_type": "code",
   "execution_count": 35,
   "id": "c39cc741",
   "metadata": {},
   "outputs": [],
   "source": [
    "# разбиваем массивы в колонке на строки\n",
    "mana_type = mana_df.explode('mana_colors')"
   ]
  },
  {
   "cell_type": "code",
   "execution_count": 36,
   "id": "8014d606",
   "metadata": {},
   "outputs": [
    {
     "data": {
      "text/plain": [
       "mana    479\n",
       "{G}     274\n",
       "{C}     244\n",
       "{R}     237\n",
       "{B}     197\n",
       "{U}     127\n",
       "{W}     104\n",
       "Name: mana_colors, dtype: int64"
      ]
     },
     "execution_count": 36,
     "metadata": {},
     "output_type": "execute_result"
    }
   ],
   "source": [
    "# В получившейся колонке 7 возможных значений, приведем их к читаемому виду\n",
    "mana_type.mana_colors.value_counts(dropna=False)"
   ]
  },
  {
   "cell_type": "code",
   "execution_count": 37,
   "id": "395f9cd4",
   "metadata": {},
   "outputs": [],
   "source": [
    "# маркеры в кавычках, которые отвечают за иконки на карте с принадлежностью к цвету,\n",
    "# заменим на соответствующие цвета(и No_color для бесцветной фракции), mana-ключевое слово карт, дающих ману всех цветов\n",
    "mana_type.mana_colors = mana_type.mana_colors \\\n",
    "                                 .map({'{G}': 'Green', '{B}': 'Black',\n",
    "                                       '{U}': 'Blue','{W}': 'White', \n",
    "                                       '{R}': 'Red', '{C}': 'No_color', \n",
    "                                       'mana': 'Any_color'})"
   ]
  },
  {
   "cell_type": "code",
   "execution_count": 38,
   "id": "a99e9956",
   "metadata": {},
   "outputs": [],
   "source": [
    "# Группируем карты по типу маны, которую они дают\n",
    "giving_mana_type = mana_type.groupby('mana_colors', as_index=False).agg({\"name\": 'count'}).rename(columns={'name': 'number_of_cards'})"
   ]
  },
  {
   "cell_type": "code",
   "execution_count": 39,
   "id": "7929c5af",
   "metadata": {},
   "outputs": [
    {
     "data": {
      "text/html": [
       "<div>\n",
       "<style scoped>\n",
       "    .dataframe tbody tr th:only-of-type {\n",
       "        vertical-align: middle;\n",
       "    }\n",
       "\n",
       "    .dataframe tbody tr th {\n",
       "        vertical-align: top;\n",
       "    }\n",
       "\n",
       "    .dataframe thead th {\n",
       "        text-align: right;\n",
       "    }\n",
       "</style>\n",
       "<table border=\"1\" class=\"dataframe\">\n",
       "  <thead>\n",
       "    <tr style=\"text-align: right;\">\n",
       "      <th></th>\n",
       "      <th>mana_colors</th>\n",
       "      <th>number_of_cards</th>\n",
       "    </tr>\n",
       "  </thead>\n",
       "  <tbody>\n",
       "    <tr>\n",
       "      <th>0</th>\n",
       "      <td>Any_color</td>\n",
       "      <td>479</td>\n",
       "    </tr>\n",
       "    <tr>\n",
       "      <th>1</th>\n",
       "      <td>Black</td>\n",
       "      <td>197</td>\n",
       "    </tr>\n",
       "    <tr>\n",
       "      <th>2</th>\n",
       "      <td>Blue</td>\n",
       "      <td>127</td>\n",
       "    </tr>\n",
       "    <tr>\n",
       "      <th>3</th>\n",
       "      <td>Green</td>\n",
       "      <td>274</td>\n",
       "    </tr>\n",
       "    <tr>\n",
       "      <th>4</th>\n",
       "      <td>No_color</td>\n",
       "      <td>244</td>\n",
       "    </tr>\n",
       "    <tr>\n",
       "      <th>5</th>\n",
       "      <td>Red</td>\n",
       "      <td>237</td>\n",
       "    </tr>\n",
       "    <tr>\n",
       "      <th>6</th>\n",
       "      <td>White</td>\n",
       "      <td>104</td>\n",
       "    </tr>\n",
       "  </tbody>\n",
       "</table>\n",
       "</div>"
      ],
      "text/plain": [
       "  mana_colors  number_of_cards\n",
       "0   Any_color              479\n",
       "1       Black              197\n",
       "2        Blue              127\n",
       "3       Green              274\n",
       "4    No_color              244\n",
       "5         Red              237\n",
       "6       White              104"
      ]
     },
     "execution_count": 39,
     "metadata": {},
     "output_type": "execute_result"
    }
   ],
   "source": [
    "giving_mana_type"
   ]
  },
  {
   "cell_type": "code",
   "execution_count": 42,
   "id": "65ba229a",
   "metadata": {
    "scrolled": false
   },
   "outputs": [
    {
     "data": {
      "application/vnd.plotly.v1+json": {
       "config": {
        "plotlyServerURL": "https://plot.ly"
       },
       "data": [
        {
         "alignmentgroup": "True",
         "hovertemplate": "mana_colors=%{y}<br>number_of_cards=%{x}<extra></extra>",
         "legendgroup": "Any_color",
         "marker": {
          "color": "#778AAE",
          "pattern": {
           "shape": ""
          }
         },
         "name": "Any_color",
         "offsetgroup": "Any_color",
         "orientation": "h",
         "showlegend": true,
         "textposition": "auto",
         "type": "bar",
         "x": [
          479
         ],
         "xaxis": "x",
         "y": [
          "Any_color"
         ],
         "yaxis": "y"
        },
        {
         "alignmentgroup": "True",
         "hovertemplate": "mana_colors=%{y}<br>number_of_cards=%{x}<extra></extra>",
         "legendgroup": "Black",
         "marker": {
          "color": "#222A2A",
          "pattern": {
           "shape": ""
          }
         },
         "name": "Black",
         "offsetgroup": "Black",
         "orientation": "h",
         "showlegend": true,
         "textposition": "auto",
         "type": "bar",
         "x": [
          197
         ],
         "xaxis": "x",
         "y": [
          "Black"
         ],
         "yaxis": "y"
        },
        {
         "alignmentgroup": "True",
         "hovertemplate": "mana_colors=%{y}<br>number_of_cards=%{x}<extra></extra>",
         "legendgroup": "Blue",
         "marker": {
          "color": "#2E91E5",
          "pattern": {
           "shape": ""
          }
         },
         "name": "Blue",
         "offsetgroup": "Blue",
         "orientation": "h",
         "showlegend": true,
         "textposition": "auto",
         "type": "bar",
         "x": [
          127
         ],
         "xaxis": "x",
         "y": [
          "Blue"
         ],
         "yaxis": "y"
        },
        {
         "alignmentgroup": "True",
         "hovertemplate": "mana_colors=%{y}<br>number_of_cards=%{x}<extra></extra>",
         "legendgroup": "Green",
         "marker": {
          "color": "#B6E880",
          "pattern": {
           "shape": ""
          }
         },
         "name": "Green",
         "offsetgroup": "Green",
         "orientation": "h",
         "showlegend": true,
         "textposition": "auto",
         "type": "bar",
         "x": [
          274
         ],
         "xaxis": "x",
         "y": [
          "Green"
         ],
         "yaxis": "y"
        },
        {
         "alignmentgroup": "True",
         "hovertemplate": "mana_colors=%{y}<br>number_of_cards=%{x}<extra></extra>",
         "legendgroup": "No_color",
         "marker": {
          "color": "rgb(255,255,179)",
          "pattern": {
           "shape": ""
          }
         },
         "name": "No_color",
         "offsetgroup": "No_color",
         "orientation": "h",
         "showlegend": true,
         "textposition": "auto",
         "type": "bar",
         "x": [
          244
         ],
         "xaxis": "x",
         "y": [
          "No_color"
         ],
         "yaxis": "y"
        },
        {
         "alignmentgroup": "True",
         "hovertemplate": "mana_colors=%{y}<br>number_of_cards=%{x}<extra></extra>",
         "legendgroup": "Red",
         "marker": {
          "color": "#EF553B",
          "pattern": {
           "shape": ""
          }
         },
         "name": "Red",
         "offsetgroup": "Red",
         "orientation": "h",
         "showlegend": true,
         "textposition": "auto",
         "type": "bar",
         "x": [
          237
         ],
         "xaxis": "x",
         "y": [
          "Red"
         ],
         "yaxis": "y"
        },
        {
         "alignmentgroup": "True",
         "hovertemplate": "mana_colors=%{y}<br>number_of_cards=%{x}<extra></extra>",
         "legendgroup": "White",
         "marker": {
          "color": "white",
          "pattern": {
           "shape": ""
          }
         },
         "name": "White",
         "offsetgroup": "White",
         "orientation": "h",
         "showlegend": true,
         "textposition": "auto",
         "type": "bar",
         "x": [
          104
         ],
         "xaxis": "x",
         "y": [
          "White"
         ],
         "yaxis": "y"
        }
       ],
       "layout": {
        "barmode": "relative",
        "legend": {
         "title": {
          "text": "Цвет"
         },
         "tracegroupgap": 0,
         "x": 0.998,
         "xanchor": "right",
         "y": 0.4,
         "yanchor": "top"
        },
        "margin": {
         "b": 0,
         "l": 0,
         "r": 40,
         "t": 50
        },
        "template": {
         "data": {
          "bar": [
           {
            "error_x": {
             "color": "#2a3f5f"
            },
            "error_y": {
             "color": "#2a3f5f"
            },
            "marker": {
             "line": {
              "color": "#E5ECF6",
              "width": 0.5
             },
             "pattern": {
              "fillmode": "overlay",
              "size": 10,
              "solidity": 0.2
             }
            },
            "type": "bar"
           }
          ],
          "barpolar": [
           {
            "marker": {
             "line": {
              "color": "#E5ECF6",
              "width": 0.5
             },
             "pattern": {
              "fillmode": "overlay",
              "size": 10,
              "solidity": 0.2
             }
            },
            "type": "barpolar"
           }
          ],
          "carpet": [
           {
            "aaxis": {
             "endlinecolor": "#2a3f5f",
             "gridcolor": "white",
             "linecolor": "white",
             "minorgridcolor": "white",
             "startlinecolor": "#2a3f5f"
            },
            "baxis": {
             "endlinecolor": "#2a3f5f",
             "gridcolor": "white",
             "linecolor": "white",
             "minorgridcolor": "white",
             "startlinecolor": "#2a3f5f"
            },
            "type": "carpet"
           }
          ],
          "choropleth": [
           {
            "colorbar": {
             "outlinewidth": 0,
             "ticks": ""
            },
            "type": "choropleth"
           }
          ],
          "contour": [
           {
            "colorbar": {
             "outlinewidth": 0,
             "ticks": ""
            },
            "colorscale": [
             [
              0,
              "#0d0887"
             ],
             [
              0.1111111111111111,
              "#46039f"
             ],
             [
              0.2222222222222222,
              "#7201a8"
             ],
             [
              0.3333333333333333,
              "#9c179e"
             ],
             [
              0.4444444444444444,
              "#bd3786"
             ],
             [
              0.5555555555555556,
              "#d8576b"
             ],
             [
              0.6666666666666666,
              "#ed7953"
             ],
             [
              0.7777777777777778,
              "#fb9f3a"
             ],
             [
              0.8888888888888888,
              "#fdca26"
             ],
             [
              1,
              "#f0f921"
             ]
            ],
            "type": "contour"
           }
          ],
          "contourcarpet": [
           {
            "colorbar": {
             "outlinewidth": 0,
             "ticks": ""
            },
            "type": "contourcarpet"
           }
          ],
          "heatmap": [
           {
            "colorbar": {
             "outlinewidth": 0,
             "ticks": ""
            },
            "colorscale": [
             [
              0,
              "#0d0887"
             ],
             [
              0.1111111111111111,
              "#46039f"
             ],
             [
              0.2222222222222222,
              "#7201a8"
             ],
             [
              0.3333333333333333,
              "#9c179e"
             ],
             [
              0.4444444444444444,
              "#bd3786"
             ],
             [
              0.5555555555555556,
              "#d8576b"
             ],
             [
              0.6666666666666666,
              "#ed7953"
             ],
             [
              0.7777777777777778,
              "#fb9f3a"
             ],
             [
              0.8888888888888888,
              "#fdca26"
             ],
             [
              1,
              "#f0f921"
             ]
            ],
            "type": "heatmap"
           }
          ],
          "heatmapgl": [
           {
            "colorbar": {
             "outlinewidth": 0,
             "ticks": ""
            },
            "colorscale": [
             [
              0,
              "#0d0887"
             ],
             [
              0.1111111111111111,
              "#46039f"
             ],
             [
              0.2222222222222222,
              "#7201a8"
             ],
             [
              0.3333333333333333,
              "#9c179e"
             ],
             [
              0.4444444444444444,
              "#bd3786"
             ],
             [
              0.5555555555555556,
              "#d8576b"
             ],
             [
              0.6666666666666666,
              "#ed7953"
             ],
             [
              0.7777777777777778,
              "#fb9f3a"
             ],
             [
              0.8888888888888888,
              "#fdca26"
             ],
             [
              1,
              "#f0f921"
             ]
            ],
            "type": "heatmapgl"
           }
          ],
          "histogram": [
           {
            "marker": {
             "pattern": {
              "fillmode": "overlay",
              "size": 10,
              "solidity": 0.2
             }
            },
            "type": "histogram"
           }
          ],
          "histogram2d": [
           {
            "colorbar": {
             "outlinewidth": 0,
             "ticks": ""
            },
            "colorscale": [
             [
              0,
              "#0d0887"
             ],
             [
              0.1111111111111111,
              "#46039f"
             ],
             [
              0.2222222222222222,
              "#7201a8"
             ],
             [
              0.3333333333333333,
              "#9c179e"
             ],
             [
              0.4444444444444444,
              "#bd3786"
             ],
             [
              0.5555555555555556,
              "#d8576b"
             ],
             [
              0.6666666666666666,
              "#ed7953"
             ],
             [
              0.7777777777777778,
              "#fb9f3a"
             ],
             [
              0.8888888888888888,
              "#fdca26"
             ],
             [
              1,
              "#f0f921"
             ]
            ],
            "type": "histogram2d"
           }
          ],
          "histogram2dcontour": [
           {
            "colorbar": {
             "outlinewidth": 0,
             "ticks": ""
            },
            "colorscale": [
             [
              0,
              "#0d0887"
             ],
             [
              0.1111111111111111,
              "#46039f"
             ],
             [
              0.2222222222222222,
              "#7201a8"
             ],
             [
              0.3333333333333333,
              "#9c179e"
             ],
             [
              0.4444444444444444,
              "#bd3786"
             ],
             [
              0.5555555555555556,
              "#d8576b"
             ],
             [
              0.6666666666666666,
              "#ed7953"
             ],
             [
              0.7777777777777778,
              "#fb9f3a"
             ],
             [
              0.8888888888888888,
              "#fdca26"
             ],
             [
              1,
              "#f0f921"
             ]
            ],
            "type": "histogram2dcontour"
           }
          ],
          "mesh3d": [
           {
            "colorbar": {
             "outlinewidth": 0,
             "ticks": ""
            },
            "type": "mesh3d"
           }
          ],
          "parcoords": [
           {
            "line": {
             "colorbar": {
              "outlinewidth": 0,
              "ticks": ""
             }
            },
            "type": "parcoords"
           }
          ],
          "pie": [
           {
            "automargin": true,
            "type": "pie"
           }
          ],
          "scatter": [
           {
            "fillpattern": {
             "fillmode": "overlay",
             "size": 10,
             "solidity": 0.2
            },
            "type": "scatter"
           }
          ],
          "scatter3d": [
           {
            "line": {
             "colorbar": {
              "outlinewidth": 0,
              "ticks": ""
             }
            },
            "marker": {
             "colorbar": {
              "outlinewidth": 0,
              "ticks": ""
             }
            },
            "type": "scatter3d"
           }
          ],
          "scattercarpet": [
           {
            "marker": {
             "colorbar": {
              "outlinewidth": 0,
              "ticks": ""
             }
            },
            "type": "scattercarpet"
           }
          ],
          "scattergeo": [
           {
            "marker": {
             "colorbar": {
              "outlinewidth": 0,
              "ticks": ""
             }
            },
            "type": "scattergeo"
           }
          ],
          "scattergl": [
           {
            "marker": {
             "colorbar": {
              "outlinewidth": 0,
              "ticks": ""
             }
            },
            "type": "scattergl"
           }
          ],
          "scattermapbox": [
           {
            "marker": {
             "colorbar": {
              "outlinewidth": 0,
              "ticks": ""
             }
            },
            "type": "scattermapbox"
           }
          ],
          "scatterpolar": [
           {
            "marker": {
             "colorbar": {
              "outlinewidth": 0,
              "ticks": ""
             }
            },
            "type": "scatterpolar"
           }
          ],
          "scatterpolargl": [
           {
            "marker": {
             "colorbar": {
              "outlinewidth": 0,
              "ticks": ""
             }
            },
            "type": "scatterpolargl"
           }
          ],
          "scatterternary": [
           {
            "marker": {
             "colorbar": {
              "outlinewidth": 0,
              "ticks": ""
             }
            },
            "type": "scatterternary"
           }
          ],
          "surface": [
           {
            "colorbar": {
             "outlinewidth": 0,
             "ticks": ""
            },
            "colorscale": [
             [
              0,
              "#0d0887"
             ],
             [
              0.1111111111111111,
              "#46039f"
             ],
             [
              0.2222222222222222,
              "#7201a8"
             ],
             [
              0.3333333333333333,
              "#9c179e"
             ],
             [
              0.4444444444444444,
              "#bd3786"
             ],
             [
              0.5555555555555556,
              "#d8576b"
             ],
             [
              0.6666666666666666,
              "#ed7953"
             ],
             [
              0.7777777777777778,
              "#fb9f3a"
             ],
             [
              0.8888888888888888,
              "#fdca26"
             ],
             [
              1,
              "#f0f921"
             ]
            ],
            "type": "surface"
           }
          ],
          "table": [
           {
            "cells": {
             "fill": {
              "color": "#EBF0F8"
             },
             "line": {
              "color": "white"
             }
            },
            "header": {
             "fill": {
              "color": "#C8D4E3"
             },
             "line": {
              "color": "white"
             }
            },
            "type": "table"
           }
          ]
         },
         "layout": {
          "annotationdefaults": {
           "arrowcolor": "#2a3f5f",
           "arrowhead": 0,
           "arrowwidth": 1
          },
          "autotypenumbers": "strict",
          "coloraxis": {
           "colorbar": {
            "outlinewidth": 0,
            "ticks": ""
           }
          },
          "colorscale": {
           "diverging": [
            [
             0,
             "#8e0152"
            ],
            [
             0.1,
             "#c51b7d"
            ],
            [
             0.2,
             "#de77ae"
            ],
            [
             0.3,
             "#f1b6da"
            ],
            [
             0.4,
             "#fde0ef"
            ],
            [
             0.5,
             "#f7f7f7"
            ],
            [
             0.6,
             "#e6f5d0"
            ],
            [
             0.7,
             "#b8e186"
            ],
            [
             0.8,
             "#7fbc41"
            ],
            [
             0.9,
             "#4d9221"
            ],
            [
             1,
             "#276419"
            ]
           ],
           "sequential": [
            [
             0,
             "#0d0887"
            ],
            [
             0.1111111111111111,
             "#46039f"
            ],
            [
             0.2222222222222222,
             "#7201a8"
            ],
            [
             0.3333333333333333,
             "#9c179e"
            ],
            [
             0.4444444444444444,
             "#bd3786"
            ],
            [
             0.5555555555555556,
             "#d8576b"
            ],
            [
             0.6666666666666666,
             "#ed7953"
            ],
            [
             0.7777777777777778,
             "#fb9f3a"
            ],
            [
             0.8888888888888888,
             "#fdca26"
            ],
            [
             1,
             "#f0f921"
            ]
           ],
           "sequentialminus": [
            [
             0,
             "#0d0887"
            ],
            [
             0.1111111111111111,
             "#46039f"
            ],
            [
             0.2222222222222222,
             "#7201a8"
            ],
            [
             0.3333333333333333,
             "#9c179e"
            ],
            [
             0.4444444444444444,
             "#bd3786"
            ],
            [
             0.5555555555555556,
             "#d8576b"
            ],
            [
             0.6666666666666666,
             "#ed7953"
            ],
            [
             0.7777777777777778,
             "#fb9f3a"
            ],
            [
             0.8888888888888888,
             "#fdca26"
            ],
            [
             1,
             "#f0f921"
            ]
           ]
          },
          "colorway": [
           "#636efa",
           "#EF553B",
           "#00cc96",
           "#ab63fa",
           "#FFA15A",
           "#19d3f3",
           "#FF6692",
           "#B6E880",
           "#FF97FF",
           "#FECB52"
          ],
          "font": {
           "color": "#2a3f5f"
          },
          "geo": {
           "bgcolor": "white",
           "lakecolor": "white",
           "landcolor": "#E5ECF6",
           "showlakes": true,
           "showland": true,
           "subunitcolor": "white"
          },
          "hoverlabel": {
           "align": "left"
          },
          "hovermode": "closest",
          "mapbox": {
           "style": "light"
          },
          "paper_bgcolor": "white",
          "plot_bgcolor": "#E5ECF6",
          "polar": {
           "angularaxis": {
            "gridcolor": "white",
            "linecolor": "white",
            "ticks": ""
           },
           "bgcolor": "#E5ECF6",
           "radialaxis": {
            "gridcolor": "white",
            "linecolor": "white",
            "ticks": ""
           }
          },
          "scene": {
           "xaxis": {
            "backgroundcolor": "#E5ECF6",
            "gridcolor": "white",
            "gridwidth": 2,
            "linecolor": "white",
            "showbackground": true,
            "ticks": "",
            "zerolinecolor": "white"
           },
           "yaxis": {
            "backgroundcolor": "#E5ECF6",
            "gridcolor": "white",
            "gridwidth": 2,
            "linecolor": "white",
            "showbackground": true,
            "ticks": "",
            "zerolinecolor": "white"
           },
           "zaxis": {
            "backgroundcolor": "#E5ECF6",
            "gridcolor": "white",
            "gridwidth": 2,
            "linecolor": "white",
            "showbackground": true,
            "ticks": "",
            "zerolinecolor": "white"
           }
          },
          "shapedefaults": {
           "line": {
            "color": "#2a3f5f"
           }
          },
          "ternary": {
           "aaxis": {
            "gridcolor": "white",
            "linecolor": "white",
            "ticks": ""
           },
           "baxis": {
            "gridcolor": "white",
            "linecolor": "white",
            "ticks": ""
           },
           "bgcolor": "#E5ECF6",
           "caxis": {
            "gridcolor": "white",
            "linecolor": "white",
            "ticks": ""
           }
          },
          "title": {
           "x": 0.05
          },
          "xaxis": {
           "automargin": true,
           "gridcolor": "white",
           "linecolor": "white",
           "ticks": "",
           "title": {
            "standoff": 15
           },
           "zerolinecolor": "white",
           "zerolinewidth": 2
          },
          "yaxis": {
           "automargin": true,
           "gridcolor": "white",
           "linecolor": "white",
           "ticks": "",
           "title": {
            "standoff": 15
           },
           "zerolinecolor": "white",
           "zerolinewidth": 2
          }
         }
        },
        "title": {
         "text": "Распределение карт по цвету даваемой маны",
         "x": 0.5,
         "xanchor": "center",
         "y": 0.95,
         "yanchor": "top"
        },
        "xaxis": {
         "anchor": "y",
         "domain": [
          0,
          1
         ],
         "title": {
          "text": "цвет маны"
         }
        },
        "yaxis": {
         "anchor": "x",
         "categoryarray": [
          "White",
          "Red",
          "No_color",
          "Green",
          "Blue",
          "Black",
          "Any_color"
         ],
         "categoryorder": "total ascending",
         "domain": [
          0,
          1
         ],
         "title": {
          "text": "количество карт"
         }
        }
       }
      },
      "text/html": [
       "<div>                            <div id=\"4fdd4a3a-8e72-4cca-8f5b-1afb0a14bee6\" class=\"plotly-graph-div\" style=\"height:525px; width:100%;\"></div>            <script type=\"text/javascript\">                require([\"plotly\"], function(Plotly) {                    window.PLOTLYENV=window.PLOTLYENV || {};                                    if (document.getElementById(\"4fdd4a3a-8e72-4cca-8f5b-1afb0a14bee6\")) {                    Plotly.newPlot(                        \"4fdd4a3a-8e72-4cca-8f5b-1afb0a14bee6\",                        [{\"alignmentgroup\":\"True\",\"hovertemplate\":\"mana_colors=%{y}<br>number_of_cards=%{x}<extra></extra>\",\"legendgroup\":\"Any_color\",\"marker\":{\"color\":\"#778AAE\",\"pattern\":{\"shape\":\"\"}},\"name\":\"Any_color\",\"offsetgroup\":\"Any_color\",\"orientation\":\"h\",\"showlegend\":true,\"textposition\":\"auto\",\"x\":[479],\"xaxis\":\"x\",\"y\":[\"Any_color\"],\"yaxis\":\"y\",\"type\":\"bar\"},{\"alignmentgroup\":\"True\",\"hovertemplate\":\"mana_colors=%{y}<br>number_of_cards=%{x}<extra></extra>\",\"legendgroup\":\"Black\",\"marker\":{\"color\":\"#222A2A\",\"pattern\":{\"shape\":\"\"}},\"name\":\"Black\",\"offsetgroup\":\"Black\",\"orientation\":\"h\",\"showlegend\":true,\"textposition\":\"auto\",\"x\":[197],\"xaxis\":\"x\",\"y\":[\"Black\"],\"yaxis\":\"y\",\"type\":\"bar\"},{\"alignmentgroup\":\"True\",\"hovertemplate\":\"mana_colors=%{y}<br>number_of_cards=%{x}<extra></extra>\",\"legendgroup\":\"Blue\",\"marker\":{\"color\":\"#2E91E5\",\"pattern\":{\"shape\":\"\"}},\"name\":\"Blue\",\"offsetgroup\":\"Blue\",\"orientation\":\"h\",\"showlegend\":true,\"textposition\":\"auto\",\"x\":[127],\"xaxis\":\"x\",\"y\":[\"Blue\"],\"yaxis\":\"y\",\"type\":\"bar\"},{\"alignmentgroup\":\"True\",\"hovertemplate\":\"mana_colors=%{y}<br>number_of_cards=%{x}<extra></extra>\",\"legendgroup\":\"Green\",\"marker\":{\"color\":\"#B6E880\",\"pattern\":{\"shape\":\"\"}},\"name\":\"Green\",\"offsetgroup\":\"Green\",\"orientation\":\"h\",\"showlegend\":true,\"textposition\":\"auto\",\"x\":[274],\"xaxis\":\"x\",\"y\":[\"Green\"],\"yaxis\":\"y\",\"type\":\"bar\"},{\"alignmentgroup\":\"True\",\"hovertemplate\":\"mana_colors=%{y}<br>number_of_cards=%{x}<extra></extra>\",\"legendgroup\":\"No_color\",\"marker\":{\"color\":\"rgb(255,255,179)\",\"pattern\":{\"shape\":\"\"}},\"name\":\"No_color\",\"offsetgroup\":\"No_color\",\"orientation\":\"h\",\"showlegend\":true,\"textposition\":\"auto\",\"x\":[244],\"xaxis\":\"x\",\"y\":[\"No_color\"],\"yaxis\":\"y\",\"type\":\"bar\"},{\"alignmentgroup\":\"True\",\"hovertemplate\":\"mana_colors=%{y}<br>number_of_cards=%{x}<extra></extra>\",\"legendgroup\":\"Red\",\"marker\":{\"color\":\"#EF553B\",\"pattern\":{\"shape\":\"\"}},\"name\":\"Red\",\"offsetgroup\":\"Red\",\"orientation\":\"h\",\"showlegend\":true,\"textposition\":\"auto\",\"x\":[237],\"xaxis\":\"x\",\"y\":[\"Red\"],\"yaxis\":\"y\",\"type\":\"bar\"},{\"alignmentgroup\":\"True\",\"hovertemplate\":\"mana_colors=%{y}<br>number_of_cards=%{x}<extra></extra>\",\"legendgroup\":\"White\",\"marker\":{\"color\":\"white\",\"pattern\":{\"shape\":\"\"}},\"name\":\"White\",\"offsetgroup\":\"White\",\"orientation\":\"h\",\"showlegend\":true,\"textposition\":\"auto\",\"x\":[104],\"xaxis\":\"x\",\"y\":[\"White\"],\"yaxis\":\"y\",\"type\":\"bar\"}],                        {\"template\":{\"data\":{\"histogram2dcontour\":[{\"type\":\"histogram2dcontour\",\"colorbar\":{\"outlinewidth\":0,\"ticks\":\"\"},\"colorscale\":[[0.0,\"#0d0887\"],[0.1111111111111111,\"#46039f\"],[0.2222222222222222,\"#7201a8\"],[0.3333333333333333,\"#9c179e\"],[0.4444444444444444,\"#bd3786\"],[0.5555555555555556,\"#d8576b\"],[0.6666666666666666,\"#ed7953\"],[0.7777777777777778,\"#fb9f3a\"],[0.8888888888888888,\"#fdca26\"],[1.0,\"#f0f921\"]]}],\"choropleth\":[{\"type\":\"choropleth\",\"colorbar\":{\"outlinewidth\":0,\"ticks\":\"\"}}],\"histogram2d\":[{\"type\":\"histogram2d\",\"colorbar\":{\"outlinewidth\":0,\"ticks\":\"\"},\"colorscale\":[[0.0,\"#0d0887\"],[0.1111111111111111,\"#46039f\"],[0.2222222222222222,\"#7201a8\"],[0.3333333333333333,\"#9c179e\"],[0.4444444444444444,\"#bd3786\"],[0.5555555555555556,\"#d8576b\"],[0.6666666666666666,\"#ed7953\"],[0.7777777777777778,\"#fb9f3a\"],[0.8888888888888888,\"#fdca26\"],[1.0,\"#f0f921\"]]}],\"heatmap\":[{\"type\":\"heatmap\",\"colorbar\":{\"outlinewidth\":0,\"ticks\":\"\"},\"colorscale\":[[0.0,\"#0d0887\"],[0.1111111111111111,\"#46039f\"],[0.2222222222222222,\"#7201a8\"],[0.3333333333333333,\"#9c179e\"],[0.4444444444444444,\"#bd3786\"],[0.5555555555555556,\"#d8576b\"],[0.6666666666666666,\"#ed7953\"],[0.7777777777777778,\"#fb9f3a\"],[0.8888888888888888,\"#fdca26\"],[1.0,\"#f0f921\"]]}],\"heatmapgl\":[{\"type\":\"heatmapgl\",\"colorbar\":{\"outlinewidth\":0,\"ticks\":\"\"},\"colorscale\":[[0.0,\"#0d0887\"],[0.1111111111111111,\"#46039f\"],[0.2222222222222222,\"#7201a8\"],[0.3333333333333333,\"#9c179e\"],[0.4444444444444444,\"#bd3786\"],[0.5555555555555556,\"#d8576b\"],[0.6666666666666666,\"#ed7953\"],[0.7777777777777778,\"#fb9f3a\"],[0.8888888888888888,\"#fdca26\"],[1.0,\"#f0f921\"]]}],\"contourcarpet\":[{\"type\":\"contourcarpet\",\"colorbar\":{\"outlinewidth\":0,\"ticks\":\"\"}}],\"contour\":[{\"type\":\"contour\",\"colorbar\":{\"outlinewidth\":0,\"ticks\":\"\"},\"colorscale\":[[0.0,\"#0d0887\"],[0.1111111111111111,\"#46039f\"],[0.2222222222222222,\"#7201a8\"],[0.3333333333333333,\"#9c179e\"],[0.4444444444444444,\"#bd3786\"],[0.5555555555555556,\"#d8576b\"],[0.6666666666666666,\"#ed7953\"],[0.7777777777777778,\"#fb9f3a\"],[0.8888888888888888,\"#fdca26\"],[1.0,\"#f0f921\"]]}],\"surface\":[{\"type\":\"surface\",\"colorbar\":{\"outlinewidth\":0,\"ticks\":\"\"},\"colorscale\":[[0.0,\"#0d0887\"],[0.1111111111111111,\"#46039f\"],[0.2222222222222222,\"#7201a8\"],[0.3333333333333333,\"#9c179e\"],[0.4444444444444444,\"#bd3786\"],[0.5555555555555556,\"#d8576b\"],[0.6666666666666666,\"#ed7953\"],[0.7777777777777778,\"#fb9f3a\"],[0.8888888888888888,\"#fdca26\"],[1.0,\"#f0f921\"]]}],\"mesh3d\":[{\"type\":\"mesh3d\",\"colorbar\":{\"outlinewidth\":0,\"ticks\":\"\"}}],\"scatter\":[{\"fillpattern\":{\"fillmode\":\"overlay\",\"size\":10,\"solidity\":0.2},\"type\":\"scatter\"}],\"parcoords\":[{\"type\":\"parcoords\",\"line\":{\"colorbar\":{\"outlinewidth\":0,\"ticks\":\"\"}}}],\"scatterpolargl\":[{\"type\":\"scatterpolargl\",\"marker\":{\"colorbar\":{\"outlinewidth\":0,\"ticks\":\"\"}}}],\"bar\":[{\"error_x\":{\"color\":\"#2a3f5f\"},\"error_y\":{\"color\":\"#2a3f5f\"},\"marker\":{\"line\":{\"color\":\"#E5ECF6\",\"width\":0.5},\"pattern\":{\"fillmode\":\"overlay\",\"size\":10,\"solidity\":0.2}},\"type\":\"bar\"}],\"scattergeo\":[{\"type\":\"scattergeo\",\"marker\":{\"colorbar\":{\"outlinewidth\":0,\"ticks\":\"\"}}}],\"scatterpolar\":[{\"type\":\"scatterpolar\",\"marker\":{\"colorbar\":{\"outlinewidth\":0,\"ticks\":\"\"}}}],\"histogram\":[{\"marker\":{\"pattern\":{\"fillmode\":\"overlay\",\"size\":10,\"solidity\":0.2}},\"type\":\"histogram\"}],\"scattergl\":[{\"type\":\"scattergl\",\"marker\":{\"colorbar\":{\"outlinewidth\":0,\"ticks\":\"\"}}}],\"scatter3d\":[{\"type\":\"scatter3d\",\"line\":{\"colorbar\":{\"outlinewidth\":0,\"ticks\":\"\"}},\"marker\":{\"colorbar\":{\"outlinewidth\":0,\"ticks\":\"\"}}}],\"scattermapbox\":[{\"type\":\"scattermapbox\",\"marker\":{\"colorbar\":{\"outlinewidth\":0,\"ticks\":\"\"}}}],\"scatterternary\":[{\"type\":\"scatterternary\",\"marker\":{\"colorbar\":{\"outlinewidth\":0,\"ticks\":\"\"}}}],\"scattercarpet\":[{\"type\":\"scattercarpet\",\"marker\":{\"colorbar\":{\"outlinewidth\":0,\"ticks\":\"\"}}}],\"carpet\":[{\"aaxis\":{\"endlinecolor\":\"#2a3f5f\",\"gridcolor\":\"white\",\"linecolor\":\"white\",\"minorgridcolor\":\"white\",\"startlinecolor\":\"#2a3f5f\"},\"baxis\":{\"endlinecolor\":\"#2a3f5f\",\"gridcolor\":\"white\",\"linecolor\":\"white\",\"minorgridcolor\":\"white\",\"startlinecolor\":\"#2a3f5f\"},\"type\":\"carpet\"}],\"table\":[{\"cells\":{\"fill\":{\"color\":\"#EBF0F8\"},\"line\":{\"color\":\"white\"}},\"header\":{\"fill\":{\"color\":\"#C8D4E3\"},\"line\":{\"color\":\"white\"}},\"type\":\"table\"}],\"barpolar\":[{\"marker\":{\"line\":{\"color\":\"#E5ECF6\",\"width\":0.5},\"pattern\":{\"fillmode\":\"overlay\",\"size\":10,\"solidity\":0.2}},\"type\":\"barpolar\"}],\"pie\":[{\"automargin\":true,\"type\":\"pie\"}]},\"layout\":{\"autotypenumbers\":\"strict\",\"colorway\":[\"#636efa\",\"#EF553B\",\"#00cc96\",\"#ab63fa\",\"#FFA15A\",\"#19d3f3\",\"#FF6692\",\"#B6E880\",\"#FF97FF\",\"#FECB52\"],\"font\":{\"color\":\"#2a3f5f\"},\"hovermode\":\"closest\",\"hoverlabel\":{\"align\":\"left\"},\"paper_bgcolor\":\"white\",\"plot_bgcolor\":\"#E5ECF6\",\"polar\":{\"bgcolor\":\"#E5ECF6\",\"angularaxis\":{\"gridcolor\":\"white\",\"linecolor\":\"white\",\"ticks\":\"\"},\"radialaxis\":{\"gridcolor\":\"white\",\"linecolor\":\"white\",\"ticks\":\"\"}},\"ternary\":{\"bgcolor\":\"#E5ECF6\",\"aaxis\":{\"gridcolor\":\"white\",\"linecolor\":\"white\",\"ticks\":\"\"},\"baxis\":{\"gridcolor\":\"white\",\"linecolor\":\"white\",\"ticks\":\"\"},\"caxis\":{\"gridcolor\":\"white\",\"linecolor\":\"white\",\"ticks\":\"\"}},\"coloraxis\":{\"colorbar\":{\"outlinewidth\":0,\"ticks\":\"\"}},\"colorscale\":{\"sequential\":[[0.0,\"#0d0887\"],[0.1111111111111111,\"#46039f\"],[0.2222222222222222,\"#7201a8\"],[0.3333333333333333,\"#9c179e\"],[0.4444444444444444,\"#bd3786\"],[0.5555555555555556,\"#d8576b\"],[0.6666666666666666,\"#ed7953\"],[0.7777777777777778,\"#fb9f3a\"],[0.8888888888888888,\"#fdca26\"],[1.0,\"#f0f921\"]],\"sequentialminus\":[[0.0,\"#0d0887\"],[0.1111111111111111,\"#46039f\"],[0.2222222222222222,\"#7201a8\"],[0.3333333333333333,\"#9c179e\"],[0.4444444444444444,\"#bd3786\"],[0.5555555555555556,\"#d8576b\"],[0.6666666666666666,\"#ed7953\"],[0.7777777777777778,\"#fb9f3a\"],[0.8888888888888888,\"#fdca26\"],[1.0,\"#f0f921\"]],\"diverging\":[[0,\"#8e0152\"],[0.1,\"#c51b7d\"],[0.2,\"#de77ae\"],[0.3,\"#f1b6da\"],[0.4,\"#fde0ef\"],[0.5,\"#f7f7f7\"],[0.6,\"#e6f5d0\"],[0.7,\"#b8e186\"],[0.8,\"#7fbc41\"],[0.9,\"#4d9221\"],[1,\"#276419\"]]},\"xaxis\":{\"gridcolor\":\"white\",\"linecolor\":\"white\",\"ticks\":\"\",\"title\":{\"standoff\":15},\"zerolinecolor\":\"white\",\"automargin\":true,\"zerolinewidth\":2},\"yaxis\":{\"gridcolor\":\"white\",\"linecolor\":\"white\",\"ticks\":\"\",\"title\":{\"standoff\":15},\"zerolinecolor\":\"white\",\"automargin\":true,\"zerolinewidth\":2},\"scene\":{\"xaxis\":{\"backgroundcolor\":\"#E5ECF6\",\"gridcolor\":\"white\",\"linecolor\":\"white\",\"showbackground\":true,\"ticks\":\"\",\"zerolinecolor\":\"white\",\"gridwidth\":2},\"yaxis\":{\"backgroundcolor\":\"#E5ECF6\",\"gridcolor\":\"white\",\"linecolor\":\"white\",\"showbackground\":true,\"ticks\":\"\",\"zerolinecolor\":\"white\",\"gridwidth\":2},\"zaxis\":{\"backgroundcolor\":\"#E5ECF6\",\"gridcolor\":\"white\",\"linecolor\":\"white\",\"showbackground\":true,\"ticks\":\"\",\"zerolinecolor\":\"white\",\"gridwidth\":2}},\"shapedefaults\":{\"line\":{\"color\":\"#2a3f5f\"}},\"annotationdefaults\":{\"arrowcolor\":\"#2a3f5f\",\"arrowhead\":0,\"arrowwidth\":1},\"geo\":{\"bgcolor\":\"white\",\"landcolor\":\"#E5ECF6\",\"subunitcolor\":\"white\",\"showland\":true,\"showlakes\":true,\"lakecolor\":\"white\"},\"title\":{\"x\":0.05},\"mapbox\":{\"style\":\"light\"}}},\"xaxis\":{\"anchor\":\"y\",\"domain\":[0.0,1.0],\"title\":{\"text\":\"\\u0446\\u0432\\u0435\\u0442 \\u043c\\u0430\\u043d\\u044b\"}},\"yaxis\":{\"anchor\":\"x\",\"domain\":[0.0,1.0],\"title\":{\"text\":\"\\u043a\\u043e\\u043b\\u0438\\u0447\\u0435\\u0441\\u0442\\u0432\\u043e \\u043a\\u0430\\u0440\\u0442\"},\"categoryorder\":\"total ascending\",\"categoryarray\":[\"White\",\"Red\",\"No_color\",\"Green\",\"Blue\",\"Black\",\"Any_color\"]},\"legend\":{\"title\":{\"text\":\"\\u0426\\u0432\\u0435\\u0442\"},\"tracegroupgap\":0,\"yanchor\":\"top\",\"y\":0.4,\"xanchor\":\"right\",\"x\":0.998},\"margin\":{\"t\":50,\"l\":0,\"r\":40,\"b\":0},\"barmode\":\"relative\",\"title\":{\"text\":\"\\u0420\\u0430\\u0441\\u043f\\u0440\\u0435\\u0434\\u0435\\u043b\\u0435\\u043d\\u0438\\u0435 \\u043a\\u0430\\u0440\\u0442 \\u043f\\u043e \\u0446\\u0432\\u0435\\u0442\\u0443 \\u0434\\u0430\\u0432\\u0430\\u0435\\u043c\\u043e\\u0439 \\u043c\\u0430\\u043d\\u044b\",\"y\":0.95,\"x\":0.5,\"xanchor\":\"center\",\"yanchor\":\"top\"}},                        {\"responsive\": true}                    ).then(function(){\n",
       "                            \n",
       "var gd = document.getElementById('4fdd4a3a-8e72-4cca-8f5b-1afb0a14bee6');\n",
       "var x = new MutationObserver(function (mutations, observer) {{\n",
       "        var display = window.getComputedStyle(gd).display;\n",
       "        if (!display || display === 'none') {{\n",
       "            console.log([gd, 'removed!']);\n",
       "            Plotly.purge(gd);\n",
       "            observer.disconnect();\n",
       "        }}\n",
       "}});\n",
       "\n",
       "// Listen for the removal of the full notebook cells\n",
       "var notebookContainer = gd.closest('#notebook-container');\n",
       "if (notebookContainer) {{\n",
       "    x.observe(notebookContainer, {childList: true});\n",
       "}}\n",
       "\n",
       "// Listen for the clearing of the current output cell\n",
       "var outputEl = gd.closest('.output');\n",
       "if (outputEl) {{\n",
       "    x.observe(outputEl, {childList: true});\n",
       "}}\n",
       "\n",
       "                        })                };                });            </script>        </div>"
      ]
     },
     "metadata": {},
     "output_type": "display_data"
    },
    {
     "data": {
      "image/jpeg": "[encoded data removed]"
     },
     "metadata": {},
     "output_type": "display_data"
    }
   ],
   "source": [
    "# строим график, отражающий число карт в каждой группе\n",
    "fig = px.bar(giving_mana_type, x='number_of_cards', y='mana_colors', orientation='h', color='mana_colors', \n",
    "             color_discrete_map={\n",
    "                 'White': 'white',\n",
    "                 'Black': '#222A2A',\n",
    "                 'Blue': '#2E91E5',\n",
    "                 'Green': '#B6E880',\n",
    "                 'Red': '#EF553B',\n",
    "                 'No_color': 'rgb(255,255,179)',\n",
    "                 'Any_color': '#778AAE'\n",
    "                  })\n",
    "# Кастомизация  графика в plotl\n",
    "fig.update_layout(legend=dict(\n",
    "                            yanchor=\"top\",\n",
    "                            y=0.4,\n",
    "                            xanchor=\"right\",\n",
    "                            x=0.998\n",
    "                            ),\n",
    "                    title={\n",
    "                            'text': \"Распределение карт по цвету даваемой маны\",\n",
    "                            'y':0.95,\n",
    "                            'x':0.5,\n",
    "                            'xanchor': 'center',\n",
    "                            'yanchor': 'top'\n",
    "                            },\n",
    "                  xaxis_title=\"цвет маны\",\n",
    "                  yaxis={'categoryorder':'total ascending'},\n",
    "                  yaxis_title=\"количество карт\", \n",
    "                  legend_title=\"Цвет\",\n",
    "                  margin=dict(l=0, r=40, t=50, b=0))\n",
    "fig.show(renderer='jpeg')"
   ]
  },
  {
   "cell_type": "code",
   "execution_count": null,
   "id": "2b755f6e",
   "metadata": {},
   "outputs": [],
   "source": []
  }
 ],
 "metadata": {
  "kernelspec": {
   "display_name": "Python 3 (ipykernel)",
   "language": "python",
   "name": "python3"
  },
  "language_info": {
   "codemirror_mode": {
    "name": "ipython",
    "version": 3
   },
   "file_extension": ".py",
   "mimetype": "text/x-python",
   "name": "python",
   "nbconvert_exporter": "python",
   "pygments_lexer": "ipython3",
   "version": "3.9.13"
  },
  "varInspector": {
   "cols": {
    "lenName": 16,
    "lenType": 16,
    "lenVar": 40
   },
   "kernels_config": {
    "python": {
     "delete_cmd_postfix": "",
     "delete_cmd_prefix": "del ",
     "library": "var_list.py",
     "varRefreshCmd": "print(var_dic_list())"
    },
    "r": {
     "delete_cmd_postfix": ") ",
     "delete_cmd_prefix": "rm(",
     "library": "var_list.r",
     "varRefreshCmd": "cat(var_dic_list()) "
    }
   },
   "types_to_exclude": [
    "module",
    "function",
    "builtin_function_or_method",
    "instance",
    "_Feature"
   ],
   "window_display": false
  }
 },
 "nbformat": 4,
 "nbformat_minor": 5
}
